{
 "cells": [
  {
   "cell_type": "markdown",
   "metadata": {
    "id": "ZwoTWIysaNmc"
   },
   "source": [
    "<pre><font size=6>Spoken Digit Recognition</font></pre>"
   ]
  },
  {
   "cell_type": "markdown",
   "metadata": {
    "id": "rPO3mjDDaNmf"
   },
   "source": [
    "<pre>\n",
    "In this notebook, You will do Spoken Digit Recognition. \n",
    "\n",
    "Input - speech signal, output - digit number\n",
    "\n",
    "\n",
    "\n",
    "It contains  \n",
    "\n",
    "1. Reading the dataset. and Preprocess the data set. Detailed instrctions are given below. You have to write the code in the same cell which contains the instrction. \n",
    "2. Training the LSTM with RAW data\n",
    "3. Converting to spectrogram and Training the LSTM network\n",
    "4. Creating the augmented data and doing step 2 and 3 again.  \n",
    "\n",
    "<font size=5>instructions:</font>\n",
    "\n",
    "    1. Don't change any Grader Functions. Don't manipulate any Grader functions. If you manipulate any, it will be considered as plagiarised. \n",
    "    \n",
    "    2. Please read the instructions on the code cells and markdown cells. We will explain what to write. \n",
    "    \n",
    "    3. please return outputs in the same format what we asked. Eg. Don't return List of we are asking for a numpy array.\n",
    "    \n",
    "    4. Please read the external links that we are given so that you will learn the concept behind the code that you are writing.\n",
    "    \n",
    "    5. We are giving instructions at each section if necessary, please follow them. \n",
    "\n",
    "<font size=5>Every Grader function has to return True. </font>\n",
    "\n",
    "</pre>"
   ]
  },
  {
   "cell_type": "code",
   "execution_count": 3,
   "metadata": {
    "id": "_qGuPcj-aNmh"
   },
   "outputs": [],
   "source": [
    "import numpy as np\n",
    "import pandas as pd\n",
    "import librosa\n",
    "import os\n",
    "##if you need any imports you can do that here. "
   ]
  },
  {
   "cell_type": "markdown",
   "metadata": {
    "id": "PdhFzGK1aNmo"
   },
   "source": [
    "We shared recordings.zip, please unzip those. "
   ]
  },
  {
   "cell_type": "code",
   "execution_count": 4,
   "metadata": {
    "colab": {
     "base_uri": "https://localhost:8080/"
    },
    "id": "f718sx9UIbDn",
    "outputId": "fe576759-fc48-41d3-edc3-74e0c4b534b2"
   },
   "outputs": [
    {
     "name": "stdout",
     "output_type": "stream",
     "text": [
      "--2021-09-13 09:12:45--  https://doc-00-7s-docs.googleusercontent.com/docs/securesc/9csvdbmvo9gt489glsl99tqs7subbnk6/67mi270jjgtk4loba05f81a8t5423so6/1631524275000/00484516897554883881/01088116874641946513/17YGQheavMbM6aeHYjUcGssXfb7eQHo1z?e=download&authuser=0&nonce=4m02l3olv6blg&user=01088116874641946513&hash=9dha3qpbpilntebna8sqasvs3joc0m56\n",
      "Resolving doc-00-7s-docs.googleusercontent.com (doc-00-7s-docs.googleusercontent.com)... 74.125.69.132, 2607:f8b0:4001:c08::84\n",
      "Connecting to doc-00-7s-docs.googleusercontent.com (doc-00-7s-docs.googleusercontent.com)|74.125.69.132|:443... connected.\n",
      "HTTP request sent, awaiting response... 200 OK\n",
      "Length: unspecified [application/x-zip-compressed]\n",
      "Saving to: ‘recordings.zip’\n",
      "\n",
      "recordings.zip          [  <=>               ]   8.85M  35.1MB/s    in 0.3s    \n",
      "\n",
      "2021-09-13 09:12:46 (35.1 MB/s) - ‘recordings.zip’ saved [9282934]\n",
      "\n"
     ]
    }
   ],
   "source": [
    "!wget --header=\"Host: doc-00-7s-docs.googleusercontent.com\" --header=\"User-Agent: Mozilla/5.0 (Windows NT 10.0; Win64; x64) AppleWebKit/537.36 (KHTML, like Gecko) Chrome/93.0.4577.63 Safari/537.36\" --header=\"Accept: text/html,application/xhtml+xml,application/xml;q=0.9,image/avif,image/webp,image/apng,*/*;q=0.8,application/signed-exchange;v=b3;q=0.9\" --header=\"Accept-Language: en-IN,en-GB;q=0.9,en-US;q=0.8,en;q=0.7\" --header=\"Cookie: AUTH_smvf2o367eja801lv3hmgenqovh1tbcl_nonce=4m02l3olv6blg\" --header=\"Connection: keep-alive\" \"https://doc-00-7s-docs.googleusercontent.com/docs/securesc/9csvdbmvo9gt489glsl99tqs7subbnk6/67mi270jjgtk4loba05f81a8t5423so6/1631524275000/00484516897554883881/01088116874641946513/17YGQheavMbM6aeHYjUcGssXfb7eQHo1z?e=download&authuser=0&nonce=4m02l3olv6blg&user=01088116874641946513&hash=9dha3qpbpilntebna8sqasvs3joc0m56\" -c -O 'recordings.zip'"
   ]
  },
  {
   "cell_type": "code",
   "execution_count": 5,
   "metadata": {
    "id": "UrdLLDwjIbGz"
   },
   "outputs": [],
   "source": [
    "import zipfile\n",
    "with zipfile.ZipFile(\"/content/recordings.zip\", 'r') as zip_ref:\n",
    "    zip_ref.extractall()"
   ]
  },
  {
   "cell_type": "code",
   "execution_count": 6,
   "metadata": {
    "colab": {
     "base_uri": "https://localhost:8080/"
    },
    "id": "XubyjeI0NaXG",
    "outputId": "242ee77a-c7e8-4729-af59-acad3f1fa456"
   },
   "outputs": [
    {
     "data": {
      "text/plain": [
       "2000"
      ]
     },
     "execution_count": 6,
     "metadata": {},
     "output_type": "execute_result"
    }
   ],
   "source": [
    "import os\n",
    "len(os.listdir(\"recordings\")) #there are 2000 audi files"
   ]
  },
  {
   "cell_type": "code",
   "execution_count": null,
   "metadata": {
    "id": "HDBcl_PUaNmp"
   },
   "outputs": [],
   "source": [
    "#read the all file names in the recordings folder given by us\n",
    "#(if you get entire path, it is very useful in future)\n",
    "#save those files names as list in \"all_files\""
   ]
  },
  {
   "cell_type": "code",
   "execution_count": 7,
   "metadata": {
    "id": "rqfc87cA-soz"
   },
   "outputs": [],
   "source": [
    "all_files=[]"
   ]
  },
  {
   "cell_type": "code",
   "execution_count": 8,
   "metadata": {
    "id": "aUgUjPHz-laZ"
   },
   "outputs": [],
   "source": [
    "for i in os.listdir(\"/content/recordings\"):\n",
    "    a1=\"/content/recordings/\" +str(i)\n",
    "    all_files.append(a1)"
   ]
  },
  {
   "cell_type": "code",
   "execution_count": 9,
   "metadata": {
    "colab": {
     "base_uri": "https://localhost:8080/"
    },
    "id": "efLNs7ojQGBd",
    "outputId": "17c73aac-8cbb-49e2-e91f-eab6454480df"
   },
   "outputs": [
    {
     "data": {
      "text/plain": [
       "2000"
      ]
     },
     "execution_count": 9,
     "metadata": {},
     "output_type": "execute_result"
    }
   ],
   "source": [
    "len(all_files)"
   ]
  },
  {
   "cell_type": "code",
   "execution_count": 10,
   "metadata": {
    "colab": {
     "base_uri": "https://localhost:8080/",
     "height": 35
    },
    "id": "CryPFXqkQSSG",
    "outputId": "65e77b7d-ac57-4312-f11b-b26a366b2063"
   },
   "outputs": [
    {
     "data": {
      "application/vnd.google.colaboratory.intrinsic+json": {
       "type": "string"
      },
      "text/plain": [
       "'/content/recordings/9_yweweler_13.wav'"
      ]
     },
     "execution_count": 10,
     "metadata": {},
     "output_type": "execute_result"
    }
   ],
   "source": [
    "all_files[0]"
   ]
  },
  {
   "cell_type": "markdown",
   "metadata": {
    "id": "8NYYpfqoaNmv"
   },
   "source": [
    "<font size=4>Grader function 1 </font>"
   ]
  },
  {
   "cell_type": "code",
   "execution_count": 11,
   "metadata": {
    "colab": {
     "base_uri": "https://localhost:8080/"
    },
    "id": "2oJSOmYBaNmx",
    "outputId": "33524d1e-9aec-45e9-9d55-609bafef1259"
   },
   "outputs": [
    {
     "data": {
      "text/plain": [
       "True"
      ]
     },
     "execution_count": 11,
     "metadata": {},
     "output_type": "execute_result"
    }
   ],
   "source": [
    "def grader_files():\n",
    "    temp = len(all_files)==2000\n",
    "    temp1 = all([x[-3:]==\"wav\" for x in all_files])\n",
    "    temp = temp and temp1\n",
    "    return temp\n",
    "grader_files()"
   ]
  },
  {
   "cell_type": "markdown",
   "metadata": {
    "id": "MhvSIN6raNm3"
   },
   "source": [
    "Create a dataframe(name=df_audio) with two columns(path, label).   \n",
    "You can get the label from the first letter of name.  \n",
    "Eg: 0_jackson_0 --> 0  \n",
    "0_jackson_43 --> 0"
   ]
  },
  {
   "cell_type": "code",
   "execution_count": 12,
   "metadata": {
    "colab": {
     "base_uri": "https://localhost:8080/",
     "height": 35
    },
    "id": "fWP6vXBeaNm3",
    "outputId": "76789073-b14d-4fab-93cf-5ffa35b19a99"
   },
   "outputs": [
    {
     "data": {
      "application/vnd.google.colaboratory.intrinsic+json": {
       "type": "string"
      },
      "text/plain": [
       "'/content/recordings/9_nicolas_43.wav'"
      ]
     },
     "execution_count": 12,
     "metadata": {},
     "output_type": "execute_result"
    }
   ],
   "source": [
    "#Create a dataframe(name=df_audio) with two columns(path, label).   \n",
    "#You can get the label from the first letter of name.  \n",
    "#Eg: 0_jackson_0 --> 0  \n",
    "#0_jackson_43 --> 0\n",
    "all_files[17]"
   ]
  },
  {
   "cell_type": "code",
   "execution_count": 13,
   "metadata": {
    "id": "jujMQ6TQUeEE"
   },
   "outputs": [],
   "source": [
    "#creating labels\n",
    "label=[]\n",
    "import re\n",
    "for i in all_files:\n",
    "    x = int(re.findall('[0-9]+', i)[0])\n",
    "    label.append(x)"
   ]
  },
  {
   "cell_type": "code",
   "execution_count": 14,
   "metadata": {
    "colab": {
     "base_uri": "https://localhost:8080/"
    },
    "id": "6SIS46L8VlGB",
    "outputId": "7b3fc7a3-3033-4b2f-adf7-ae1e0ba7c15d"
   },
   "outputs": [
    {
     "data": {
      "text/plain": [
       "2000"
      ]
     },
     "execution_count": 14,
     "metadata": {},
     "output_type": "execute_result"
    }
   ],
   "source": [
    "len(label)  #labels are created"
   ]
  },
  {
   "cell_type": "code",
   "execution_count": 15,
   "metadata": {
    "colab": {
     "base_uri": "https://localhost:8080/"
    },
    "id": "G2Et--P8UeHF",
    "outputId": "2457b41f-5386-4fd4-ee5b-3a5935c3e26d"
   },
   "outputs": [
    {
     "name": "stdout",
     "output_type": "stream",
     "text": [
      "/content/recordings/5_jackson_31.wav\n",
      "*********\n",
      "5\n"
     ]
    }
   ],
   "source": [
    "print(all_files[12])\n",
    "print(\"*********\")\n",
    "print(label[12])"
   ]
  },
  {
   "cell_type": "code",
   "execution_count": 16,
   "metadata": {
    "colab": {
     "base_uri": "https://localhost:8080/",
     "height": 669
    },
    "id": "wuS3aMikWg98",
    "outputId": "e11bd6b1-8385-42b7-dd1f-f8c53509486a"
   },
   "outputs": [
    {
     "data": {
      "text/html": [
       "<div>\n",
       "<style scoped>\n",
       "    .dataframe tbody tr th:only-of-type {\n",
       "        vertical-align: middle;\n",
       "    }\n",
       "\n",
       "    .dataframe tbody tr th {\n",
       "        vertical-align: top;\n",
       "    }\n",
       "\n",
       "    .dataframe thead th {\n",
       "        text-align: right;\n",
       "    }\n",
       "</style>\n",
       "<table border=\"1\" class=\"dataframe\">\n",
       "  <thead>\n",
       "    <tr style=\"text-align: right;\">\n",
       "      <th></th>\n",
       "      <th>path</th>\n",
       "      <th>label</th>\n",
       "    </tr>\n",
       "  </thead>\n",
       "  <tbody>\n",
       "    <tr>\n",
       "      <th>0</th>\n",
       "      <td>/content/recordings/9_yweweler_13.wav</td>\n",
       "      <td>9</td>\n",
       "    </tr>\n",
       "    <tr>\n",
       "      <th>1</th>\n",
       "      <td>/content/recordings/0_theo_27.wav</td>\n",
       "      <td>0</td>\n",
       "    </tr>\n",
       "    <tr>\n",
       "      <th>2</th>\n",
       "      <td>/content/recordings/9_jackson_45.wav</td>\n",
       "      <td>9</td>\n",
       "    </tr>\n",
       "    <tr>\n",
       "      <th>3</th>\n",
       "      <td>/content/recordings/9_nicolas_19.wav</td>\n",
       "      <td>9</td>\n",
       "    </tr>\n",
       "    <tr>\n",
       "      <th>4</th>\n",
       "      <td>/content/recordings/4_theo_45.wav</td>\n",
       "      <td>4</td>\n",
       "    </tr>\n",
       "    <tr>\n",
       "      <th>5</th>\n",
       "      <td>/content/recordings/4_nicolas_10.wav</td>\n",
       "      <td>4</td>\n",
       "    </tr>\n",
       "    <tr>\n",
       "      <th>6</th>\n",
       "      <td>/content/recordings/0_nicolas_23.wav</td>\n",
       "      <td>0</td>\n",
       "    </tr>\n",
       "    <tr>\n",
       "      <th>7</th>\n",
       "      <td>/content/recordings/2_yweweler_29.wav</td>\n",
       "      <td>2</td>\n",
       "    </tr>\n",
       "    <tr>\n",
       "      <th>8</th>\n",
       "      <td>/content/recordings/6_theo_20.wav</td>\n",
       "      <td>6</td>\n",
       "    </tr>\n",
       "    <tr>\n",
       "      <th>9</th>\n",
       "      <td>/content/recordings/1_yweweler_47.wav</td>\n",
       "      <td>1</td>\n",
       "    </tr>\n",
       "    <tr>\n",
       "      <th>10</th>\n",
       "      <td>/content/recordings/8_theo_38.wav</td>\n",
       "      <td>8</td>\n",
       "    </tr>\n",
       "    <tr>\n",
       "      <th>11</th>\n",
       "      <td>/content/recordings/5_yweweler_21.wav</td>\n",
       "      <td>5</td>\n",
       "    </tr>\n",
       "    <tr>\n",
       "      <th>12</th>\n",
       "      <td>/content/recordings/5_jackson_31.wav</td>\n",
       "      <td>5</td>\n",
       "    </tr>\n",
       "    <tr>\n",
       "      <th>13</th>\n",
       "      <td>/content/recordings/1_yweweler_23.wav</td>\n",
       "      <td>1</td>\n",
       "    </tr>\n",
       "    <tr>\n",
       "      <th>14</th>\n",
       "      <td>/content/recordings/8_nicolas_42.wav</td>\n",
       "      <td>8</td>\n",
       "    </tr>\n",
       "    <tr>\n",
       "      <th>15</th>\n",
       "      <td>/content/recordings/7_nicolas_1.wav</td>\n",
       "      <td>7</td>\n",
       "    </tr>\n",
       "    <tr>\n",
       "      <th>16</th>\n",
       "      <td>/content/recordings/1_theo_21.wav</td>\n",
       "      <td>1</td>\n",
       "    </tr>\n",
       "    <tr>\n",
       "      <th>17</th>\n",
       "      <td>/content/recordings/9_nicolas_43.wav</td>\n",
       "      <td>9</td>\n",
       "    </tr>\n",
       "    <tr>\n",
       "      <th>18</th>\n",
       "      <td>/content/recordings/7_yweweler_28.wav</td>\n",
       "      <td>7</td>\n",
       "    </tr>\n",
       "    <tr>\n",
       "      <th>19</th>\n",
       "      <td>/content/recordings/9_theo_39.wav</td>\n",
       "      <td>9</td>\n",
       "    </tr>\n",
       "  </tbody>\n",
       "</table>\n",
       "</div>"
      ],
      "text/plain": [
       "                                     path  label\n",
       "0   /content/recordings/9_yweweler_13.wav      9\n",
       "1       /content/recordings/0_theo_27.wav      0\n",
       "2    /content/recordings/9_jackson_45.wav      9\n",
       "3    /content/recordings/9_nicolas_19.wav      9\n",
       "4       /content/recordings/4_theo_45.wav      4\n",
       "5    /content/recordings/4_nicolas_10.wav      4\n",
       "6    /content/recordings/0_nicolas_23.wav      0\n",
       "7   /content/recordings/2_yweweler_29.wav      2\n",
       "8       /content/recordings/6_theo_20.wav      6\n",
       "9   /content/recordings/1_yweweler_47.wav      1\n",
       "10      /content/recordings/8_theo_38.wav      8\n",
       "11  /content/recordings/5_yweweler_21.wav      5\n",
       "12   /content/recordings/5_jackson_31.wav      5\n",
       "13  /content/recordings/1_yweweler_23.wav      1\n",
       "14   /content/recordings/8_nicolas_42.wav      8\n",
       "15    /content/recordings/7_nicolas_1.wav      7\n",
       "16      /content/recordings/1_theo_21.wav      1\n",
       "17   /content/recordings/9_nicolas_43.wav      9\n",
       "18  /content/recordings/7_yweweler_28.wav      7\n",
       "19      /content/recordings/9_theo_39.wav      9"
      ]
     },
     "execution_count": 16,
     "metadata": {},
     "output_type": "execute_result"
    }
   ],
   "source": [
    "df_audio=pd.DataFrame(list(zip(all_files, label)),columns =['path', 'label'])\n",
    "df_audio.head(20)"
   ]
  },
  {
   "cell_type": "code",
   "execution_count": 17,
   "metadata": {
    "colab": {
     "base_uri": "https://localhost:8080/"
    },
    "id": "MvT5jr_1XuPH",
    "outputId": "4577b996-55f6-4884-a878-a7799d3ae1aa"
   },
   "outputs": [
    {
     "data": {
      "text/plain": [
       "(2000, 2)"
      ]
     },
     "execution_count": 17,
     "metadata": {},
     "output_type": "execute_result"
    }
   ],
   "source": [
    "df_audio.shape"
   ]
  },
  {
   "cell_type": "code",
   "execution_count": 18,
   "metadata": {
    "colab": {
     "base_uri": "https://localhost:8080/"
    },
    "id": "5ZpuaGuJaNm8",
    "outputId": "a0916860-33ed-4e1e-8ad0-c9fbbc094653"
   },
   "outputs": [
    {
     "name": "stdout",
     "output_type": "stream",
     "text": [
      "<class 'pandas.core.frame.DataFrame'>\n",
      "RangeIndex: 2000 entries, 0 to 1999\n",
      "Data columns (total 2 columns):\n",
      " #   Column  Non-Null Count  Dtype \n",
      "---  ------  --------------  ----- \n",
      " 0   path    2000 non-null   object\n",
      " 1   label   2000 non-null   int64 \n",
      "dtypes: int64(1), object(1)\n",
      "memory usage: 31.4+ KB\n"
     ]
    }
   ],
   "source": [
    "#info\n",
    "df_audio.info()"
   ]
  },
  {
   "cell_type": "markdown",
   "metadata": {
    "id": "VOKpYJ_LaNnD"
   },
   "source": [
    "<font size=4>Grader function 2 </font>"
   ]
  },
  {
   "cell_type": "code",
   "execution_count": 19,
   "metadata": {
    "colab": {
     "base_uri": "https://localhost:8080/"
    },
    "id": "7Q8r_T8-aNnE",
    "outputId": "0d5e30cc-394e-49b2-fde0-989becdcea0d"
   },
   "outputs": [
    {
     "data": {
      "text/plain": [
       "True"
      ]
     },
     "execution_count": 19,
     "metadata": {},
     "output_type": "execute_result"
    }
   ],
   "source": [
    "def grader_df():\n",
    "    flag_shape = df_audio.shape==(2000,2)\n",
    "    flag_columns = all(df_audio.columns==['path', 'label'])\n",
    "    list_values = list(df_audio.label.value_counts())\n",
    "    flag_label = len(list_values)==10\n",
    "    flag_label2 = all([i==200 for i in list_values])\n",
    "    final_flag = flag_shape and flag_columns and flag_label and flag_label2\n",
    "    return final_flag\n",
    "grader_df()"
   ]
  },
  {
   "cell_type": "code",
   "execution_count": 20,
   "metadata": {
    "id": "PlfssCc3aNnL"
   },
   "outputs": [],
   "source": [
    "from sklearn.utils import shuffle\n",
    "df_audio = shuffle(df_audio, random_state=33)#don't change the random state"
   ]
  },
  {
   "cell_type": "markdown",
   "metadata": {
    "id": "PZ448aENaNnR"
   },
   "source": [
    "<pre><font size=4>Train and Validation split</font></pre>"
   ]
  },
  {
   "cell_type": "code",
   "execution_count": 21,
   "metadata": {
    "id": "vSPy-Ln6aNnS"
   },
   "outputs": [],
   "source": [
    "#split the data into train and validation and save in X_train, X_test, y_train, y_test\n",
    "#use stratify sampling\n",
    "#use random state of 45\n",
    "#use test size of 30%\n",
    "from sklearn.model_selection import train_test_split\n",
    "X_train, X_test, y_train, y_test = train_test_split(all_files, label, test_size=0.30, random_state=45,stratify=label)"
   ]
  },
  {
   "cell_type": "code",
   "execution_count": 22,
   "metadata": {
    "colab": {
     "base_uri": "https://localhost:8080/"
    },
    "id": "-wppqlzvcgjQ",
    "outputId": "02e24b91-9437-4d62-d556-c55ec85a2ae0"
   },
   "outputs": [
    {
     "name": "stdout",
     "output_type": "stream",
     "text": [
      "<class 'list'>\n",
      "1400\n",
      "*********\n",
      "<class 'list'>\n",
      "1400\n"
     ]
    }
   ],
   "source": [
    "print(type(X_train))\n",
    "print(len(X_train))\n",
    "\n",
    "print(\"*********\")\n",
    "\n",
    "print(type(y_train))\n",
    "print(len(y_train))"
   ]
  },
  {
   "cell_type": "code",
   "execution_count": 23,
   "metadata": {
    "colab": {
     "base_uri": "https://localhost:8080/",
     "height": 35
    },
    "id": "U-W-AYCSfrDS",
    "outputId": "a4f1c309-cdbf-4ad0-ab4f-4e37f40ae8dc"
   },
   "outputs": [
    {
     "data": {
      "application/vnd.google.colaboratory.intrinsic+json": {
       "type": "string"
      },
      "text/plain": [
       "'/content/recordings/1_yweweler_25.wav'"
      ]
     },
     "execution_count": 23,
     "metadata": {},
     "output_type": "execute_result"
    }
   ],
   "source": [
    "X_train[12]"
   ]
  },
  {
   "cell_type": "code",
   "execution_count": 24,
   "metadata": {
    "colab": {
     "base_uri": "https://localhost:8080/"
    },
    "id": "CRMHkFqUcuX6",
    "outputId": "d9770f5e-5887-4424-ec6a-f78b4dfa2887"
   },
   "outputs": [
    {
     "name": "stdout",
     "output_type": "stream",
     "text": [
      "<class 'list'>\n",
      "600\n",
      "*******\n",
      "<class 'list'>\n",
      "600\n"
     ]
    }
   ],
   "source": [
    "print(type(X_test))\n",
    "print(len(X_test))\n",
    "print(\"*******\")\n",
    "print(type(y_test))\n",
    "print(len(y_test))"
   ]
  },
  {
   "cell_type": "code",
   "execution_count": 25,
   "metadata": {
    "id": "A06F0dCrq8G2"
   },
   "outputs": [],
   "source": [
    "X_train=pd.DataFrame(X_train,columns=[\"path\"])\n",
    "y_train=pd.DataFrame(y_train,columns=['label'])\n",
    "X_test=pd.DataFrame(X_test,columns=['path'])\n",
    "y_test=pd.DataFrame(y_test,columns=[\"label\"])"
   ]
  },
  {
   "cell_type": "code",
   "execution_count": 26,
   "metadata": {
    "colab": {
     "base_uri": "https://localhost:8080/"
    },
    "id": "PV8mJT1-r9pA",
    "outputId": "a2f13a57-b2dc-4e8f-e344-bfda514a4c84"
   },
   "outputs": [
    {
     "name": "stdout",
     "output_type": "stream",
     "text": [
      "(1400, 1)\n",
      "(1400, 1)\n",
      "************\n",
      "(600, 1)\n",
      "(600, 1)\n"
     ]
    }
   ],
   "source": [
    "print(X_train.shape)\n",
    "print(y_train.shape)\n",
    "print(\"************\")\n",
    "print(X_test.shape)\n",
    "print(y_test.shape)"
   ]
  },
  {
   "cell_type": "code",
   "execution_count": 27,
   "metadata": {
    "colab": {
     "base_uri": "https://localhost:8080/"
    },
    "id": "ra8_18EgI-Jr",
    "outputId": "58b71f29-d19e-4d49-d49a-2973890f8f1c"
   },
   "outputs": [
    {
     "name": "stdout",
     "output_type": "stream",
     "text": [
      "<class 'pandas.core.frame.DataFrame'>\n",
      "<class 'pandas.core.frame.DataFrame'>\n"
     ]
    }
   ],
   "source": [
    "print(type(y_train))\n",
    "print(type(y_test))"
   ]
  },
  {
   "cell_type": "markdown",
   "metadata": {
    "id": "YPK3sbzUaNnW"
   },
   "source": [
    "<font size=4>Grader function 3 </font>"
   ]
  },
  {
   "cell_type": "code",
   "execution_count": 28,
   "metadata": {
    "colab": {
     "base_uri": "https://localhost:8080/"
    },
    "id": "chZzntKUaNnX",
    "outputId": "91da52b7-0d19-4fe3-df6f-2923adc87050"
   },
   "outputs": [
    {
     "data": {
      "text/plain": [
       "True"
      ]
     },
     "execution_count": 28,
     "metadata": {},
     "output_type": "execute_result"
    }
   ],
   "source": [
    "def grader_split():\n",
    "    flag_len = (len(X_train)==1400) and (len(X_test)==600) and (len(y_train)==1400) and (len(y_test)==600)\n",
    "    values_ytrain = list(y_train.value_counts())\n",
    "    flag_ytrain = (len(values_ytrain)==10) and (all([i==140 for i in values_ytrain]))\n",
    "    values_ytest = list(y_test.value_counts())\n",
    "    flag_ytest = (len(values_ytest)==10) and (all([i==60 for i in values_ytest]))\n",
    "    final_flag = flag_len and flag_ytrain and flag_ytest\n",
    "    return final_flag\n",
    "grader_split()"
   ]
  },
  {
   "cell_type": "markdown",
   "metadata": {
    "id": "LGhh-39vaNnb"
   },
   "source": [
    "<pre><font size=4>Preprocessing</font>\n",
    "\n",
    "All files are in the \"WAV\" format. We will read those raw data files using the librosa</pre>"
   ]
  },
  {
   "cell_type": "code",
   "execution_count": 29,
   "metadata": {
    "colab": {
     "base_uri": "https://localhost:8080/"
    },
    "id": "GCbq1hs3iDqv",
    "outputId": "3d03e453-4535-478d-9622-808b0d64387d"
   },
   "outputs": [
    {
     "name": "stdout",
     "output_type": "stream",
     "text": [
      "                                       path\n",
      "0         /content/recordings/6_theo_24.wav\n",
      "1     /content/recordings/1_yweweler_32.wav\n",
      "2     /content/recordings/6_yweweler_45.wav\n",
      "3      /content/recordings/5_jackson_49.wav\n",
      "4      /content/recordings/0_jackson_24.wav\n",
      "...                                     ...\n",
      "1395   /content/recordings/2_nicolas_49.wav\n",
      "1396  /content/recordings/8_yweweler_23.wav\n",
      "1397   /content/recordings/0_nicolas_32.wav\n",
      "1398    /content/recordings/3_nicolas_6.wav\n",
      "1399       /content/recordings/2_theo_3.wav\n",
      "\n",
      "[1400 rows x 1 columns]\n"
     ]
    }
   ],
   "source": [
    "print(X_train)"
   ]
  },
  {
   "cell_type": "code",
   "execution_count": 30,
   "metadata": {
    "id": "i99JacQSaNnc"
   },
   "outputs": [],
   "source": [
    "sample_rate = 22050\n",
    "def load_wav(x, get_duration=True):\n",
    "    '''This return the array values of audio with sampling rate of 22050 and Duration'''\n",
    "    #loading the wav file with sampling rate of 22050\n",
    "    samples, sample_rate = librosa.load(x, sr=22050)\n",
    "    if get_duration:\n",
    "        duration = librosa.get_duration(samples, sample_rate)\n",
    "        return [samples, duration]\n",
    "    else:\n",
    "        return samples"
   ]
  },
  {
   "cell_type": "code",
   "execution_count": 31,
   "metadata": {
    "colab": {
     "base_uri": "https://localhost:8080/",
     "height": 35
    },
    "id": "0UBaXJbxbmiy",
    "outputId": "7dbbcc64-2eb4-4ced-ece6-9c98f7919cf4"
   },
   "outputs": [
    {
     "data": {
      "application/vnd.google.colaboratory.intrinsic+json": {
       "type": "string"
      },
      "text/plain": [
       "'/content/recordings/6_theo_24.wav'"
      ]
     },
     "execution_count": 31,
     "metadata": {},
     "output_type": "execute_result"
    }
   ],
   "source": [
    "X_train.path[0]"
   ]
  },
  {
   "cell_type": "code",
   "execution_count": 32,
   "metadata": {
    "colab": {
     "base_uri": "https://localhost:8080/"
    },
    "id": "bJfVXkYsmNuZ",
    "outputId": "22a8bd39-aeeb-453b-8ca5-b7757480843e"
   },
   "outputs": [
    {
     "name": "stderr",
     "output_type": "stream",
     "text": [
      "100%|██████████| 1400/1400 [00:21<00:00, 65.76it/s]\n"
     ]
    }
   ],
   "source": [
    "from tqdm import tqdm\n",
    "x_train_ls_samples=[]\n",
    "x_train_ls_duration=[]\n",
    "\n",
    "for i in tqdm(X_train.path):\n",
    "    s1,d1=load_wav(i)\n",
    "    x_train_ls_samples.append(s1)\n",
    "    x_train_ls_duration.append(d1)\n"
   ]
  },
  {
   "cell_type": "code",
   "execution_count": 33,
   "metadata": {
    "id": "b1QK4bzduMK0"
   },
   "outputs": [],
   "source": [
    "X_train_processed=pd.DataFrame(list(zip(x_train_ls_samples, x_train_ls_duration)),columns =['raw_data', 'duration'])"
   ]
  },
  {
   "cell_type": "code",
   "execution_count": 34,
   "metadata": {
    "colab": {
     "base_uri": "https://localhost:8080/"
    },
    "id": "0xdmZAVdu8gE",
    "outputId": "764f4158-cad1-48a0-c4d4-4fb0a8a83aac"
   },
   "outputs": [
    {
     "name": "stdout",
     "output_type": "stream",
     "text": [
      "(1400, 2)\n",
      "<class 'pandas.core.frame.DataFrame'>\n",
      "*****\n",
      "                                            raw_data  duration\n",
      "0  [0.00076898345, 0.0006697864, 0.00023488962, -...  0.499002\n",
      "1  [5.9146714e-05, 6.741898e-05, 7.909497e-05, 9....  0.270159\n",
      "2  [-0.0002240487, -0.00023717241, -0.00022053233...  0.255420\n",
      "3  [0.01055219, 0.01332846, 0.014389632, 0.014420...  0.479909\n",
      "4  [-0.010665349, -0.013037161, -0.01384184, -0.0...  0.642041\n",
      "5  [-0.043248296, -0.028579358, -0.00053534476, 0...  0.474512\n"
     ]
    }
   ],
   "source": [
    "print(X_train_processed.shape)\n",
    "print(type(X_train_processed))\n",
    "print(\"*****\")\n",
    "print(X_train_processed.head(6))"
   ]
  },
  {
   "cell_type": "code",
   "execution_count": 35,
   "metadata": {
    "colab": {
     "base_uri": "https://localhost:8080/"
    },
    "id": "zdXXxUN8xE1e",
    "outputId": "edd95aa9-08a0-402a-d031-7c781e35c1d4"
   },
   "outputs": [
    {
     "name": "stdout",
     "output_type": "stream",
     "text": [
      "<class 'numpy.ndarray'>\n"
     ]
    }
   ],
   "source": [
    "print(type(X_train_processed.raw_data[11]))"
   ]
  },
  {
   "cell_type": "code",
   "execution_count": 36,
   "metadata": {
    "colab": {
     "base_uri": "https://localhost:8080/"
    },
    "id": "Fzd0w8-WvPcj",
    "outputId": "e42d9815-e0a6-49cd-ef20-cb5cd7a8acc5"
   },
   "outputs": [
    {
     "name": "stderr",
     "output_type": "stream",
     "text": [
      "100%|██████████| 600/600 [00:08<00:00, 70.44it/s]\n"
     ]
    }
   ],
   "source": [
    "x_test_ls_samples=[]\n",
    "x_test_ls_duration=[]\n",
    "for i in tqdm(X_test.path):\n",
    "    s2,d2=load_wav(i)\n",
    "    x_test_ls_samples.append(s2)\n",
    "    x_test_ls_duration.append(d2)"
   ]
  },
  {
   "cell_type": "code",
   "execution_count": 37,
   "metadata": {
    "id": "vrgnzbeHvPgw"
   },
   "outputs": [],
   "source": [
    "X_test_processed=pd.DataFrame(list(zip(x_test_ls_samples, x_test_ls_duration)),columns =['raw_data', 'duration'])"
   ]
  },
  {
   "cell_type": "code",
   "execution_count": 38,
   "metadata": {
    "colab": {
     "base_uri": "https://localhost:8080/"
    },
    "id": "TX5gdRQDvPkT",
    "outputId": "b6764a63-95e9-4887-8428-c1793474a04e"
   },
   "outputs": [
    {
     "name": "stdout",
     "output_type": "stream",
     "text": [
      "(600, 2)\n",
      "********\n",
      "                                            raw_data  duration\n",
      "0  [-3.0896386e-05, 4.630324e-05, 0.0001238384, 0...  0.266259\n",
      "1  [0.0001578252, 0.00016368195, 0.00016087637, 0...  0.282132\n",
      "2  [-5.8392292e-08, 0.00026674374, 0.0003689947, ...  0.264036\n",
      "3  [-0.0048882305, -0.0035996484, -0.0010624625, ...  0.818277\n",
      "4  [-0.024412373, -0.0374546, -0.04497262, -0.045...  0.371020\n",
      "5  [-0.00027326788, -4.2910684e-05, 8.124177e-05,...  0.222630\n"
     ]
    }
   ],
   "source": [
    "print(X_test_processed.shape)\n",
    "print(\"********\")\n",
    "print(X_test_processed.head(6))"
   ]
  },
  {
   "cell_type": "code",
   "execution_count": null,
   "metadata": {
    "id": "Rx97f8GGaNnh"
   },
   "outputs": [],
   "source": [
    "#use load_wav function that was written above to get every wave. \n",
    "#save it in X_train_processed and X_test_processed\n",
    "# X_train_processed/X_test_processed should be dataframes with two columns(raw_data, duration) with same index of X_train/y_train"
   ]
  },
  {
   "cell_type": "code",
   "execution_count": 39,
   "metadata": {
    "colab": {
     "base_uri": "https://localhost:8080/",
     "height": 350
    },
    "id": "duQZPQevaNno",
    "outputId": "82248fce-9c2e-4b3f-bcf2-c1624d5097ea"
   },
   "outputs": [
    {
     "data": {
      "text/plain": [
       "(array([559., 703., 126.,  10.,   1.,   0.,   0.,   0.,   0.,   1.]),\n",
       " array([0.14353741, 0.35746032, 0.57138322, 0.78530612, 0.99922902,\n",
       "        1.21315193, 1.42707483, 1.64099773, 1.85492063, 2.06884354,\n",
       "        2.28276644]),\n",
       " <a list of 10 Patch objects>)"
      ]
     },
     "execution_count": 39,
     "metadata": {},
     "output_type": "execute_result"
    },
    {
     "data": {
      "image/png": "[encoded data removed]",
      "text/plain": [
       "<Figure size 432x288 with 1 Axes>"
      ]
     },
     "metadata": {
      "needs_background": "light"
     },
     "output_type": "display_data"
    }
   ],
   "source": [
    "#plot the histogram of the duration for trian\n",
    "import matplotlib.pyplot as plt\n",
    "plt.hist(X_train_processed.duration)"
   ]
  },
  {
   "cell_type": "code",
   "execution_count": 40,
   "metadata": {
    "colab": {
     "base_uri": "https://localhost:8080/",
     "height": 350
    },
    "id": "wE5SDRzSaNns",
    "outputId": "0f92f00d-1985-4842-a5f0-52d9d93f4451"
   },
   "outputs": [
    {
     "data": {
      "text/plain": [
       "(array([243., 316.,  30.,   9.,   1.,   0.,   0.,   0.,   0.,   1.]),\n",
       " array([0.16204082, 0.36542857, 0.56881633, 0.77220408, 0.97559184,\n",
       "        1.17897959, 1.38236735, 1.5857551 , 1.78914286, 1.99253061,\n",
       "        2.19591837]),\n",
       " <a list of 10 Patch objects>)"
      ]
     },
     "execution_count": 40,
     "metadata": {},
     "output_type": "execute_result"
    },
    {
     "data": {
      "image/png": "[encoded data removed]",
      "text/plain": [
       "<Figure size 432x288 with 1 Axes>"
      ]
     },
     "metadata": {
      "needs_background": "light"
     },
     "output_type": "display_data"
    }
   ],
   "source": [
    "#plot the histogram of the duration for trian\n",
    "plt.hist(X_test_processed.duration)"
   ]
  },
  {
   "cell_type": "code",
   "execution_count": 41,
   "metadata": {
    "colab": {
     "base_uri": "https://localhost:8080/"
    },
    "id": "vvLhm1AqaNny",
    "outputId": "b6ed3388-ce16-4d78-c6ce-ae3435db5fcd"
   },
   "outputs": [
    {
     "name": "stdout",
     "output_type": "stream",
     "text": [
      "0th percentile is 0.1435374149659864\n",
      "10th percentile is 0.25989569160997733\n",
      "20th percentile is 0.29777777777777775\n",
      "30th percentile is 0.33037188208616775\n",
      "40th percentile is 0.357859410430839\n",
      "50th percentile is 0.3905215419501134\n",
      "60th percentile is 0.41733333333333333\n",
      "70th percentile is 0.44623582766439907\n",
      "80th percentile is 0.4867392290249433\n",
      "90th percentile is 0.5698140589569162\n",
      "100th percentile is 2.282766439909297\n"
     ]
    }
   ],
   "source": [
    "#print 0 to 100 percentile values with step size of 10 for train data duration. \n",
    "for i in range(0,100+1,10):\n",
    "    print(str(i)+\"th percentile is\",np.percentile(X_train_processed.duration,i))"
   ]
  },
  {
   "cell_type": "code",
   "execution_count": 42,
   "metadata": {
    "colab": {
     "base_uri": "https://localhost:8080/"
    },
    "id": "rSlVQh4CaNn2",
    "outputId": "04d4c7fb-9dfa-4ed1-eff5-f6db9a97b030"
   },
   "outputs": [
    {
     "name": "stdout",
     "output_type": "stream",
     "text": [
      "90th percentile is 0.5698140589569162\n",
      "91th percentile is 0.5810512471655329\n",
      "92th percentile is 0.5915356009070297\n",
      "93th percentile is 0.6079006802721089\n",
      "94th percentile is 0.6207873015873016\n",
      "95th percentile is 0.6294943310657595\n",
      "96th percentile is 0.6431455782312925\n",
      "97th percentile is 0.6611179138321994\n",
      "98th percentile is 0.6925750566893424\n",
      "99th percentile is 0.7654394557823128\n",
      "100th percentile is 2.282766439909297\n"
     ]
    }
   ],
   "source": [
    "##print 90 to 100 percentile values with step size of 1. \n",
    "for i in range(90,100+1,1):\n",
    "    print(str(i)+\"th percentile is\",np.percentile(X_train_processed.duration,i))"
   ]
  },
  {
   "cell_type": "markdown",
   "metadata": {
    "id": "JbMb4Y0RaNoA"
   },
   "source": [
    "<font size=4>Grader function 4 </font>"
   ]
  },
  {
   "cell_type": "code",
   "execution_count": 43,
   "metadata": {
    "colab": {
     "base_uri": "https://localhost:8080/"
    },
    "id": "UMoyLLSAaNoF",
    "outputId": "417f4d4f-70c8-432e-8ccb-a7a0922bf22d"
   },
   "outputs": [
    {
     "data": {
      "text/plain": [
       "True"
      ]
     },
     "execution_count": 43,
     "metadata": {},
     "output_type": "execute_result"
    }
   ],
   "source": [
    "def grader_processed():\n",
    "    flag_columns = (all(X_train_processed.columns==['raw_data', 'duration'])) and (all(X_test_processed.columns==['raw_data', 'duration']))\n",
    "    flag_shape = (X_train_processed.shape ==(1400, 2)) and (X_test_processed.shape==(600,2))\n",
    "    return flag_columns and flag_shape\n",
    "grader_processed()"
   ]
  },
  {
   "cell_type": "markdown",
   "metadata": {
    "id": "Cux3_jfcaNoM"
   },
   "source": [
    "<pre>Based on our analysis 99 percentile values are less than 0.8sec so we will limit maximum length of X_train_processed and X_test_processed to 0.8 sec. It is similar to pad_sequence for a text dataset. \n",
    "\n",
    "While loading the audio files, we are using sampling rate of 22050 so one sec will give array of length 22050. so, our maximum length is 0.8*22050 = 17640\n",
    "\n",
    "Pad with Zero if length of sequence is less than 17640 else Truncate the number. \n",
    "\n",
    "Also create a masking vector for train and test. \n",
    "\n",
    "masking vector value = 1 if it is real value, 0 if it is pad value. Masking vector data type must be bool.\n",
    "</pre>"
   ]
  },
  {
   "cell_type": "code",
   "execution_count": null,
   "metadata": {
    "id": "B1-_r20BaNoW"
   },
   "outputs": [],
   "source": [
    "## as discussed above, Pad with Zero if length of sequence is less than 17640 else Truncate the number. \n",
    "## save in the X_train_pad_seq, X_test_pad_seq\n",
    "## also Create masking vector X_train_mask, X_test_mask\n",
    "## all the X_train_pad_seq, X_test_pad_seq, X_train_mask, X_test_mask will be numpy arrays mask vector dtype must be bool."
   ]
  },
  {
   "cell_type": "code",
   "execution_count": 44,
   "metadata": {
    "id": "voqSEyvcaNoO"
   },
   "outputs": [],
   "source": [
    "max_length  = 17640"
   ]
  },
  {
   "cell_type": "code",
   "execution_count": 45,
   "metadata": {
    "id": "t5NqIrL0t3rB"
   },
   "outputs": [],
   "source": [
    "X_train_pad_seq=np.zeros((len(X_train_processed),max_length))\n",
    "X_test_pad_seq=np.zeros((len(X_test_processed), max_length))\n",
    "X_train_mask=np.zeros((len(X_train_processed),max_length),dtype=\"bool\")  #masked train numpy array\n",
    "X_test_mask=np.zeros((len(X_test_processed), max_length),dtype=\"bool\")  # masked test numpy array "
   ]
  },
  {
   "cell_type": "code",
   "execution_count": 46,
   "metadata": {
    "colab": {
     "base_uri": "https://localhost:8080/"
    },
    "id": "SmKMkDfkHVsb",
    "outputId": "aae267df-8bc8-45ad-abf7-4f402d32d564"
   },
   "outputs": [
    {
     "name": "stdout",
     "output_type": "stream",
     "text": [
      "bool\n",
      "*********\n",
      "bool\n"
     ]
    }
   ],
   "source": [
    "print(X_train_mask.dtype)\n",
    "print(\"*********\")\n",
    "print(X_test_mask.dtype)"
   ]
  },
  {
   "cell_type": "code",
   "execution_count": 47,
   "metadata": {
    "colab": {
     "base_uri": "https://localhost:8080/"
    },
    "id": "7oKf-Trhukly",
    "outputId": "e0708146-490b-4fe2-ea4c-7e2c4cd9c1f7"
   },
   "outputs": [
    {
     "name": "stdout",
     "output_type": "stream",
     "text": [
      "(1400, 17640)\n",
      "(1400, 17640)\n",
      "***********\n",
      "(600, 17640)\n",
      "(600, 17640)\n"
     ]
    }
   ],
   "source": [
    "print(X_train_pad_seq.shape)\n",
    "print(X_train_mask.shape)\n",
    "print(\"***********\")\n",
    "print(X_test_pad_seq.shape)\n",
    "print(X_test_mask.shape)"
   ]
  },
  {
   "cell_type": "code",
   "execution_count": 48,
   "metadata": {
    "colab": {
     "base_uri": "https://localhost:8080/"
    },
    "id": "Q_N424AgOOYm",
    "outputId": "3d84280c-d9c3-4ba9-c214-8f824d6a0a95"
   },
   "outputs": [
    {
     "data": {
      "text/plain": [
       "12969"
      ]
     },
     "execution_count": 48,
     "metadata": {},
     "output_type": "execute_result"
    }
   ],
   "source": [
    "len(X_train_processed.raw_data[999])"
   ]
  },
  {
   "cell_type": "code",
   "execution_count": 49,
   "metadata": {
    "id": "7nxkFjRGxPNg"
   },
   "outputs": [],
   "source": [
    "for i in range(len(X_train_processed)):\n",
    "    for j  in range(len(X_train_processed.raw_data[i])):\n",
    "        if j  < 17640:\n",
    "            X_train_pad_seq[i][j]= X_train_processed.raw_data[i][j]\n",
    "            X_train_mask[i][j]=1\n"
   ]
  },
  {
   "cell_type": "code",
   "execution_count": 50,
   "metadata": {
    "id": "aJUnat0MwWCb"
   },
   "outputs": [],
   "source": [
    "for i in range(len(X_test_processed)):\n",
    "    for j in range(len(X_test_processed.raw_data[i])):\n",
    "        if j  < 17640:\n",
    "            X_test_pad_seq[i][j]=X_test_processed.raw_data[i][j]\n",
    "            X_test_mask[i][j]=1"
   ]
  },
  {
   "cell_type": "code",
   "execution_count": 51,
   "metadata": {
    "colab": {
     "base_uri": "https://localhost:8080/"
    },
    "id": "LJDce1XXHiFt",
    "outputId": "6c7aff16-51de-4ae2-b15a-0bef6684fe9b"
   },
   "outputs": [
    {
     "data": {
      "text/plain": [
       "array([[ True,  True,  True, ..., False, False, False],\n",
       "       [ True,  True,  True, ..., False, False, False],\n",
       "       [ True,  True,  True, ..., False, False, False],\n",
       "       ...,\n",
       "       [ True,  True,  True, ..., False, False, False],\n",
       "       [ True,  True,  True, ..., False, False, False],\n",
       "       [ True,  True,  True, ..., False, False, False]])"
      ]
     },
     "execution_count": 51,
     "metadata": {},
     "output_type": "execute_result"
    }
   ],
   "source": [
    "X_test_mask"
   ]
  },
  {
   "cell_type": "code",
   "execution_count": 52,
   "metadata": {
    "id": "3pb45MxEJYHr"
   },
   "outputs": [],
   "source": [
    "import numpy as np\n",
    "y_train=y_train.to_numpy()\n",
    "y_test=y_test.to_numpy()"
   ]
  },
  {
   "cell_type": "code",
   "execution_count": 53,
   "metadata": {
    "colab": {
     "base_uri": "https://localhost:8080/"
    },
    "id": "zZJAYeUzQy2p",
    "outputId": "56939468-92ae-45bb-a660-fc87d556d240"
   },
   "outputs": [
    {
     "data": {
      "text/plain": [
       "(1400, 1)"
      ]
     },
     "execution_count": 53,
     "metadata": {},
     "output_type": "execute_result"
    }
   ],
   "source": [
    "y_train.shape"
   ]
  },
  {
   "cell_type": "code",
   "execution_count": 54,
   "metadata": {
    "colab": {
     "base_uri": "https://localhost:8080/"
    },
    "id": "YhJlMUy4Q4Li",
    "outputId": "a5be2fc1-8e49-4643-aa06-b05fd980026a"
   },
   "outputs": [
    {
     "name": "stdout",
     "output_type": "stream",
     "text": [
      "<class 'numpy.ndarray'>\n"
     ]
    }
   ],
   "source": [
    "print(type(y_train))"
   ]
  },
  {
   "cell_type": "code",
   "execution_count": 55,
   "metadata": {
    "id": "tSkLZ9loQ-Aq"
   },
   "outputs": [],
   "source": [
    "y_train=y_train.reshape(len(y_train))\n",
    "y_test=y_test.reshape(len(y_test))"
   ]
  },
  {
   "cell_type": "markdown",
   "metadata": {
    "id": "zEHMgm4DaNoe"
   },
   "source": [
    "<font size=4>Grader function 5 </font>"
   ]
  },
  {
   "cell_type": "code",
   "execution_count": 56,
   "metadata": {
    "colab": {
     "base_uri": "https://localhost:8080/"
    },
    "id": "Th3KhplGaNof",
    "outputId": "b49c14fc-7c94-4586-e4ca-dc533904c9a2"
   },
   "outputs": [
    {
     "data": {
      "text/plain": [
       "True"
      ]
     },
     "execution_count": 56,
     "metadata": {},
     "output_type": "execute_result"
    }
   ],
   "source": [
    "def grader_padoutput():\n",
    "    flag_padshape = (X_train_pad_seq.shape==(1400, 17640)) and (X_test_pad_seq.shape==(600, 17640)) and (y_train.shape==(1400,))\n",
    "    flag_maskshape = (X_train_mask.shape==(1400, 17640)) and (X_test_mask.shape==(600, 17640)) and (y_test.shape==(600,))\n",
    "    flag_dtype = (X_train_mask.dtype==bool) and (X_test_mask.dtype==bool)\n",
    "    return flag_padshape and flag_maskshape and flag_dtype\n",
    "grader_padoutput()"
   ]
  },
  {
   "cell_type": "markdown",
   "metadata": {
    "id": "K0kaYQ1jaNop"
   },
   "source": [
    "### 1. Giving Raw data directly. "
   ]
  },
  {
   "cell_type": "markdown",
   "metadata": {
    "id": "xGHxh3jTaNoq"
   },
   "source": [
    "<pre>\n",
    "Now we have\n",
    "\n",
    "Train data: X_train_pad_seq, X_train_mask and y_train  \n",
    "Test data: X_test_pad_seq, X_test_mask and y_test   \n",
    "\n",
    "We will create a LSTM model which takes this input. \n",
    "\n",
    "Task:\n",
    "\n",
    "1. Create an LSTM network which takes \"X_train_pad_seq\" as input, \"X_train_mask\" as mask input. You can use any number of LSTM cells. Please read LSTM documentation(https://www.tensorflow.org/api_docs/python/tf/keras/layers/LSTM) in tensorflow to know more about mask and also https://www.tensorflow.org/guide/keras/masking_and_padding \n",
    "2. Get the final output of the LSTM and give it to Dense layer of any size and then give it to Dense layer of size 10(because we have 10 outputs) and then compile with the sparse categorical cross entropy( because we are not converting it to one hot vectors). \n",
    "3. Use tensorboard to plot the graphs of loss and metric(use micro F1 score as metric) and histograms of gradients. \n",
    "4. make sure that it won't overfit. \n",
    "5. You are free to include any regularization\n",
    "</pre>"
   ]
  },
  {
   "cell_type": "markdown",
   "metadata": {
    "id": "69WLduG3v-Sr"
   },
   "source": [
    "#tensorboard callback for model 1"
   ]
  },
  {
   "cell_type": "code",
   "execution_count": 57,
   "metadata": {
    "id": "uSvdcJ_dv9Sd"
   },
   "outputs": [],
   "source": [
    "%load_ext tensorboard"
   ]
  },
  {
   "cell_type": "code",
   "execution_count": 58,
   "metadata": {
    "id": "UmBbHiCNwFdi"
   },
   "outputs": [],
   "source": [
    "!rm -rf ./logs/\n",
    "import datetime\n",
    "import os"
   ]
  },
  {
   "cell_type": "code",
   "execution_count": null,
   "metadata": {
    "colab": {
     "base_uri": "https://localhost:8080/"
    },
    "id": "AGDRKb-HwF0F",
    "outputId": "09664ae4-7514-4097-83a8-7d7eea37c6f8"
   },
   "outputs": [
    {
     "name": "stdout",
     "output_type": "stream",
     "text": [
      "WARNING:tensorflow:`write_grads` will be ignored in TensorFlow 2.0 for the `TensorBoard` Callback.\n"
     ]
    }
   ],
   "source": [
    "import tensorflow as tf\n",
    "logdir1 = os.path.join(\"logs\", datetime.datetime.now().strftime(\"%Y%m%d-%H%M%S\"))\n",
    "tensorboard_callback1= tf.keras.callbacks.TensorBoard(log_dir=logdir1, histogram_freq=1,write_graph=True,write_grads=True)"
   ]
  },
  {
   "cell_type": "markdown",
   "metadata": {
    "id": "TQVEvSTOft98"
   },
   "source": [
    "#micro f1 score callback"
   ]
  },
  {
   "cell_type": "code",
   "execution_count": 152,
   "metadata": {
    "id": "qJ0IYenGftVs"
   },
   "outputs": [],
   "source": [
    "\n",
    "from sklearn.metrics import f1_score\n",
    "class micro_f1_score1(tf.keras.callbacks.Callback):\n",
    "    def on_train_begin(self, logs={}):\n",
    "        self.metrics11={'f1_score': []}\n",
    "\n",
    "    def on_epoch_end(self, epoch, logs={}): \n",
    "        y_pred_final=[]\n",
    "        for i in range(len(y_test)):\n",
    "            a91=X_test_pad_seq11[i].T\n",
    "            a92=np.reshape(X_test_mask[i],(1,17640))\n",
    "            y_pred=np.argmax(self.model.predict((a91,a92)))\n",
    "            y_pred_final.append(y_pred)\n",
    "\n",
    "        from sklearn.metrics import f1_score\n",
    "        f11=f1_score(y_test,y_pred_final,average='micro')\n",
    "\n",
    "        \n",
    "\n",
    "        self.metrics11[\"f1_score\"].append(f11)\n",
    "\n",
    "        if self.metrics11[\"f1_score\"][epoch] > 0.10:\n",
    "             print(\"micro f1 score has reached 0.10% so training is stopping\")\n",
    "             self.model.stop_training = True\n",
    "\n",
    "\n",
    "        print(\"f1 score is \",self.metrics11[\"f1_score\"][epoch])\n",
    " "
   ]
  },
  {
   "cell_type": "code",
   "execution_count": 153,
   "metadata": {
    "id": "qJWWUzV1PL4t"
   },
   "outputs": [],
   "source": [
    "f1_score1 = micro_f1_score1()"
   ]
  },
  {
   "cell_type": "markdown",
   "metadata": {
    "id": "NsAeGLtt9hce"
   },
   "source": [
    "#model1"
   ]
  },
  {
   "cell_type": "code",
   "execution_count": 154,
   "metadata": {
    "id": "X8yg951AaNor"
   },
   "outputs": [],
   "source": [
    "from tensorflow.keras.layers import Input, LSTM, Dense\n",
    "from tensorflow.keras.models import Model\n",
    "import tensorflow as tf"
   ]
  },
  {
   "cell_type": "code",
   "execution_count": 155,
   "metadata": {
    "id": "d8y1sgeVaNoy"
   },
   "outputs": [],
   "source": [
    "## as discussed above, please write the LSTM\n",
    "input_layer=Input(shape=(max_length,1),dtype=\"float32\")\n",
    "input_mask=Input(shape=(max_length),dtype=\"bool\")\n",
    "lstm_layer=LSTM(30, name=\"lstm_layer\")(inputs = input_layer,mask = input_mask)\n",
    "dense_layer=Dense(64, activation=\"relu\")(lstm_layer)\n",
    "output_layer=Dense(10,activation=\"softmax\")(dense_layer)\n",
    "model1=Model(inputs=[input_layer,input_mask], outputs=output_layer)"
   ]
  },
  {
   "cell_type": "code",
   "execution_count": 156,
   "metadata": {
    "colab": {
     "base_uri": "https://localhost:8080/"
    },
    "id": "RPj_DGW2aNo9",
    "outputId": "371783c4-6db9-4e71-9210-d63a5b71fa82"
   },
   "outputs": [
    {
     "name": "stdout",
     "output_type": "stream",
     "text": [
      "Model: \"model_3\"\n",
      "__________________________________________________________________________________________________\n",
      "Layer (type)                    Output Shape         Param #     Connected to                     \n",
      "==================================================================================================\n",
      "input_5 (InputLayer)            [(None, 17640, 1)]   0                                            \n",
      "__________________________________________________________________________________________________\n",
      "input_6 (InputLayer)            [(None, 17640)]      0                                            \n",
      "__________________________________________________________________________________________________\n",
      "lstm_layer (LSTM)               (None, 30)           3840        input_5[0][0]                    \n",
      "                                                                 input_6[0][0]                    \n",
      "__________________________________________________________________________________________________\n",
      "dense_4 (Dense)                 (None, 64)           1984        lstm_layer[0][0]                 \n",
      "__________________________________________________________________________________________________\n",
      "dense_5 (Dense)                 (None, 10)           650         dense_4[0][0]                    \n",
      "==================================================================================================\n",
      "Total params: 6,474\n",
      "Trainable params: 6,474\n",
      "Non-trainable params: 0\n",
      "__________________________________________________________________________________________________\n"
     ]
    }
   ],
   "source": [
    "model1.summary()"
   ]
  },
  {
   "cell_type": "code",
   "execution_count": null,
   "metadata": {
    "id": "mvkN4UXxsQ86"
   },
   "outputs": [],
   "source": [
    "model1.compile(optimizer=tf.keras.optimizers.Adam(learning_rate=0.001),loss='SparseCategoricalCrossentropy',metrics=['accuracy'])"
   ]
  },
  {
   "cell_type": "code",
   "execution_count": 62,
   "metadata": {
    "colab": {
     "base_uri": "https://localhost:8080/"
    },
    "id": "OFofqYrzyCzL",
    "outputId": "42523acf-b4ba-4e6a-cc7e-2081e99756e5"
   },
   "outputs": [
    {
     "name": "stdout",
     "output_type": "stream",
     "text": [
      "(1400, 17640)\n",
      "(1400, 17640)\n",
      "***********\n",
      "(600, 17640)\n",
      "(600, 17640)\n"
     ]
    }
   ],
   "source": [
    "print(X_train_pad_seq.shape)\n",
    "print(X_train_mask.shape)\n",
    "print(\"***********\")\n",
    "print(X_test_pad_seq.shape)\n",
    "print(X_test_mask.shape)"
   ]
  },
  {
   "cell_type": "code",
   "execution_count": 63,
   "metadata": {
    "id": "d48CjbvdzzlL"
   },
   "outputs": [],
   "source": [
    "X_train_pad_seq11=np.reshape(X_train_pad_seq,(1400,17640,1))\n",
    "X_test_pad_seq11=np.reshape(X_test_pad_seq,(600,17640,1))"
   ]
  },
  {
   "cell_type": "code",
   "execution_count": 64,
   "metadata": {
    "colab": {
     "base_uri": "https://localhost:8080/"
    },
    "id": "SoI987Pt0akt",
    "outputId": "4a570640-7f08-4a96-e5f6-9d99b3d7be6b"
   },
   "outputs": [
    {
     "name": "stdout",
     "output_type": "stream",
     "text": [
      "(1400, 17640, 1)\n",
      "*****\n",
      "(600, 17640, 1)\n"
     ]
    }
   ],
   "source": [
    "print(X_train_pad_seq11.shape)\n",
    "print(\"*****\")\n",
    "print(X_test_pad_seq11.shape)"
   ]
  },
  {
   "cell_type": "code",
   "execution_count": null,
   "metadata": {
    "id": "MzpPjxvHaNpJ"
   },
   "outputs": [],
   "source": [
    "#train your model"
   ]
  },
  {
   "cell_type": "code",
   "execution_count": null,
   "metadata": {
    "colab": {
     "base_uri": "https://localhost:8080/"
    },
    "id": "p01sNV_Hw3Ub",
    "outputId": "84fd2be1-5f02-4aab-aed4-76525db29682"
   },
   "outputs": [
    {
     "name": "stdout",
     "output_type": "stream",
     "text": [
      "Epoch 1/2\n",
      "88/88 [==============================] - 145s 2s/step - loss: 2.3037 - accuracy: 0.0986 - val_loss: 2.3026 - val_accuracy: 0.1000\n",
      "micro f1 score has reached 0.10% so training is stopping\n",
      "f1 score is  0.10000000000000002\n"
     ]
    },
    {
     "data": {
      "text/plain": [
       "<keras.callbacks.History at 0x7f34a94e0110>"
      ]
     },
     "execution_count": 94,
     "metadata": {},
     "output_type": "execute_result"
    }
   ],
   "source": [
    "model1.fit([X_train_pad_seq11,X_train_mask],y_train,\n",
    "           epochs=2,batch_size=16,validation_data=([X_test_pad_seq11,X_test_mask],y_test),\n",
    "            callbacks = [f1_score1,tensorboard_callback1])"
   ]
  },
  {
   "cell_type": "code",
   "execution_count": null,
   "metadata": {
    "colab": {
     "base_uri": "https://localhost:8080/",
     "height": 35
    },
    "id": "ZmRJajEEZnqY",
    "outputId": "ae5905ac-8439-4b85-e5fb-34f34bd65dbc"
   },
   "outputs": [
    {
     "data": {
      "application/vnd.google.colaboratory.intrinsic+json": {
       "type": "string"
      },
      "text/plain": [
       "'logs/20210912-043707'"
      ]
     },
     "execution_count": 101,
     "metadata": {},
     "output_type": "execute_result"
    }
   ],
   "source": [
    "logdir1"
   ]
  },
  {
   "cell_type": "code",
   "execution_count": 2,
   "metadata": {},
   "outputs": [
    {
     "data": {
      "image/png": "[encoded data removed]",
      "text/plain": [
       "<IPython.core.display.Image object>"
      ]
     },
     "execution_count": 2,
     "metadata": {},
     "output_type": "execute_result"
    }
   ],
   "source": [
    "from IPython.display import Image\n",
    "Image(filename=r'C:\\Users\\kingjames\\Downloads\\spoken image 1 final.png')"
   ]
  },
  {
   "cell_type": "code",
   "execution_count": 157,
   "metadata": {
    "colab": {
     "base_uri": "https://localhost:8080/",
     "height": 422
    },
    "id": "yz2uYL2J0lRj",
    "outputId": "c8919396-f9dd-492e-bd0a-12207529d18e"
   },
   "outputs": [
    {
     "data": {
      "image/png": "[encoded data removed]",
      "text/plain": [
       "<IPython.core.display.Image object>"
      ]
     },
     "execution_count": 157,
     "metadata": {},
     "output_type": "execute_result"
    }
   ],
   "source": [
    "from tensorflow.keras.utils import plot_model\n",
    "plot_model(model1, to_file='model_plot.png', show_shapes=True, show_layer_names=True)"
   ]
  },
  {
   "cell_type": "markdown",
   "metadata": {
    "id": "2Fwk0X4zaNpR"
   },
   "source": [
    "### 2. Converting into spectrogram and giving spectrogram data as input  \n",
    "<pre>\n",
    "We can use librosa to convert raw data into spectrogram. A spectrogram shows the features in a two-dimensional representation with the\n",
    "intensity of a frequency at a point in time i.e we are converting Time domain to frequency domain. you can read more about this in https://pnsn.org/spectrograms/what-is-a-spectrogram\n",
    "</pre>"
   ]
  },
  {
   "cell_type": "code",
   "execution_count": 59,
   "metadata": {
    "id": "nb5AGzTjaNpS"
   },
   "outputs": [],
   "source": [
    "def convert_to_spectrogram(raw_data):\n",
    "    '''converting to spectrogram'''\n",
    "    spectrum = librosa.feature.melspectrogram(y=raw_data, sr=sample_rate, n_mels=64)\n",
    "    logmel_spectrum = librosa.power_to_db(S=spectrum, ref=np.max)\n",
    "    return logmel_spectrum"
   ]
  },
  {
   "cell_type": "code",
   "execution_count": 60,
   "metadata": {
    "colab": {
     "base_uri": "https://localhost:8080/"
    },
    "id": "FYsn_-Z48qSX",
    "outputId": "0a042d10-2d84-440c-f146-6b177c36369a"
   },
   "outputs": [
    {
     "name": "stdout",
     "output_type": "stream",
     "text": [
      "(1400, 17640)\n",
      "*********\n",
      "(600, 17640)\n"
     ]
    }
   ],
   "source": [
    "print(X_train_pad_seq.shape)\n",
    "print(\"*********\")\n",
    "print(X_test_pad_seq.shape)"
   ]
  },
  {
   "cell_type": "code",
   "execution_count": 65,
   "metadata": {
    "colab": {
     "base_uri": "https://localhost:8080/"
    },
    "id": "rPIiD9oFZoKi",
    "outputId": "0f90b148-2293-475e-d0d9-477ccc12458b"
   },
   "outputs": [
    {
     "name": "stdout",
     "output_type": "stream",
     "text": [
      "(1400, 17640, 1)\n",
      "*********\n",
      "(600, 17640, 1)\n"
     ]
    }
   ],
   "source": [
    "print(X_train_pad_seq11.shape)\n",
    "print(\"*********\")\n",
    "print(X_test_pad_seq11.shape)"
   ]
  },
  {
   "cell_type": "code",
   "execution_count": null,
   "metadata": {
    "id": "B__rN4RjaNpc"
   },
   "outputs": [],
   "source": [
    "##use convert_to_spectrogram and convert every raw sequence in X_train_pad_seq and X_test_pad-seq.\n",
    "## save those all in the X_train_spectrogram and X_test_spectrogram ( These two arrays must be numpy arrays)"
   ]
  },
  {
   "cell_type": "code",
   "execution_count": 66,
   "metadata": {
    "id": "B3v2XbCD53Mg"
   },
   "outputs": [],
   "source": [
    "X_train_spectrogram=[]"
   ]
  },
  {
   "cell_type": "code",
   "execution_count": 67,
   "metadata": {
    "colab": {
     "base_uri": "https://localhost:8080/"
    },
    "id": "1MknJ7nu6U5T",
    "outputId": "acfa00a3-2ffc-4185-e782-2a091b7ebdeb"
   },
   "outputs": [
    {
     "name": "stderr",
     "output_type": "stream",
     "text": [
      "100%|██████████| 1400/1400 [00:08<00:00, 155.63it/s]\n"
     ]
    },
    {
     "data": {
      "text/plain": [
       "(1400, 64, 35)"
      ]
     },
     "execution_count": 67,
     "metadata": {},
     "output_type": "execute_result"
    }
   ],
   "source": [
    "for i in tqdm(X_train_pad_seq):\n",
    "    spectogram=convert_to_spectrogram(i)\n",
    "    X_train_spectrogram.append(spectogram)\n",
    "\n",
    "X_train_spectrogram=np.array(X_train_spectrogram)\n",
    "X_train_spectrogram.shape"
   ]
  },
  {
   "cell_type": "code",
   "execution_count": 68,
   "metadata": {
    "id": "ISG3ijbQ53Pd"
   },
   "outputs": [],
   "source": [
    "X_test_spectrogram=[]"
   ]
  },
  {
   "cell_type": "code",
   "execution_count": 69,
   "metadata": {
    "colab": {
     "base_uri": "https://localhost:8080/"
    },
    "id": "84JqICkM7Qat",
    "outputId": "300187c2-684d-4225-df52-527f038ede31"
   },
   "outputs": [
    {
     "name": "stderr",
     "output_type": "stream",
     "text": [
      "100%|██████████| 600/600 [00:03<00:00, 153.36it/s]\n"
     ]
    },
    {
     "data": {
      "text/plain": [
       "(600, 64, 35)"
      ]
     },
     "execution_count": 69,
     "metadata": {},
     "output_type": "execute_result"
    }
   ],
   "source": [
    "for i in tqdm(X_test_pad_seq):\n",
    "    spectogram=convert_to_spectrogram(i)\n",
    "    X_test_spectrogram.append(spectogram)\n",
    "\n",
    "X_test_spectrogram=np.array(X_test_spectrogram)\n",
    "X_test_spectrogram.shape"
   ]
  },
  {
   "cell_type": "code",
   "execution_count": 70,
   "metadata": {
    "colab": {
     "base_uri": "https://localhost:8080/"
    },
    "id": "94v2Z8OuB-Ak",
    "outputId": "33bf8fb3-5181-40c5-98dc-467c965bd1ac"
   },
   "outputs": [
    {
     "data": {
      "text/plain": [
       "(1400, 64, 35)"
      ]
     },
     "execution_count": 70,
     "metadata": {},
     "output_type": "execute_result"
    }
   ],
   "source": [
    "X_train_spectogram=np.array(X_train_spectrogram)\n",
    "X_train_spectogram.shape"
   ]
  },
  {
   "cell_type": "markdown",
   "metadata": {
    "id": "zr1ynYZnaNpj"
   },
   "source": [
    "<font size=4>Grader function 6 </font>"
   ]
  },
  {
   "cell_type": "code",
   "execution_count": 71,
   "metadata": {
    "colab": {
     "base_uri": "https://localhost:8080/"
    },
    "id": "oniXBXcsaNpk",
    "outputId": "28feda87-7318-4793-cd44-7ae41bfab028"
   },
   "outputs": [
    {
     "data": {
      "text/plain": [
       "True"
      ]
     },
     "execution_count": 71,
     "metadata": {},
     "output_type": "execute_result"
    }
   ],
   "source": [
    "def grader_spectrogram():\n",
    "    flag_shape = (X_train_spectrogram.shape==(1400,64, 35)) and (X_test_spectrogram.shape == (600, 64, 35))\n",
    "    return flag_shape\n",
    "grader_spectrogram()"
   ]
  },
  {
   "cell_type": "markdown",
   "metadata": {
    "id": "xxlEVyIYaNpt"
   },
   "source": [
    "<pre>\n",
    "Now we have\n",
    "\n",
    "Train data: X_train_spectrogram and y_train  \n",
    "Test data: X_test_spectrogram and y_test   \n",
    "\n",
    "We will create a LSTM model which takes this input. \n",
    "\n",
    "Task:\n",
    "\n",
    "1. Create an LSTM network which takes \"X_train_spectrogram\" as input and has to return output at every time step. \n",
    "2. Average the output of every time step and give this to the Dense layer of any size. \n",
    "(ex: Output from LSTM will be  (#., time_steps, features) average the output of every time step i.e, you should get (#.,time_steps) \n",
    "and then pass to dense layer )\n",
    "3. give the above output to Dense layer of size 10( output layer) and train the network with sparse categorical cross entropy.  \n",
    "4. Use tensorboard to plot the graphs of loss and metric(use micro F1 score as metric) and histograms of gradients. \n",
    "5. make sure that it won't overfit. \n",
    "6. You are free to include any regularization\n",
    "</pre>"
   ]
  },
  {
   "cell_type": "markdown",
   "metadata": {
    "id": "xRlGqbuxweep"
   },
   "source": [
    "#tensorboard callback for model 2"
   ]
  },
  {
   "cell_type": "code",
   "execution_count": 81,
   "metadata": {
    "colab": {
     "base_uri": "https://localhost:8080/"
    },
    "id": "ZT_7rycAwd_X",
    "outputId": "1093203c-4d14-4a74-efb8-f91fbb9fde16"
   },
   "outputs": [
    {
     "name": "stdout",
     "output_type": "stream",
     "text": [
      "WARNING:tensorflow:`write_grads` will be ignored in TensorFlow 2.0 for the `TensorBoard` Callback.\n"
     ]
    }
   ],
   "source": [
    "logdir2 = os.path.join(\"logs\", datetime.datetime.now().strftime(\"%Y%m%d-%H%M%S\"))\n",
    "tensorboard_callback2 = tf.keras.callbacks.TensorBoard(logdir2, histogram_freq=1,write_graph=True,write_grads=True)"
   ]
  },
  {
   "cell_type": "markdown",
   "metadata": {
    "id": "Uyj-gtqDbYFM"
   },
   "source": [
    "#micro f1 score for model 2"
   ]
  },
  {
   "cell_type": "code",
   "execution_count": 74,
   "metadata": {
    "id": "2nYEu6Y3bXP4"
   },
   "outputs": [],
   "source": [
    "\n",
    "from sklearn.metrics import f1_score\n",
    "class micro_f1_score2(tf.keras.callbacks.Callback):\n",
    "    def on_train_begin(self, logs={}):\n",
    "        self.metrics11={'f1_score': []}\n",
    "\n",
    "    def on_epoch_end(self, epoch, logs={}): \n",
    "        y_pred_final=[]\n",
    "        for i in range(len(y_test)):\n",
    "            b91=X_test_spectrogram[i]\n",
    "            b92=np.reshape(b91,(1,64,35))  # here shape is differeent\n",
    "            \n",
    "            y_pred=np.argmax(self.model.predict((b92)))\n",
    "            y_pred_final.append(y_pred)\n",
    "\n",
    "        from sklearn.metrics import f1_score\n",
    "        f11=f1_score(y_test,y_pred_final,average='micro')\n",
    "\n",
    "        self.metrics11[\"f1_score\"].append(f11)\n",
    "\n",
    "        if self.metrics11[\"f1_score\"][epoch] > 0.80:\n",
    "             print(\"micro f1 score has reached 0.80% so training is stopping\")\n",
    "             self.model.stop_training = True\n",
    "\n",
    "        \n",
    "\n",
    "        print(\"f1 score is \",self.metrics11[\"f1_score\"][epoch])\n",
    " "
   ]
  },
  {
   "cell_type": "code",
   "execution_count": 75,
   "metadata": {
    "id": "1Tg7IRhabnLg"
   },
   "outputs": [],
   "source": [
    "f1_score2 = micro_f1_score2()"
   ]
  },
  {
   "cell_type": "code",
   "execution_count": 76,
   "metadata": {
    "id": "RFxdN4vfEI4q"
   },
   "outputs": [],
   "source": [
    "from tensorflow.keras.layers import Input, LSTM, Dense , GlobalAveragePooling1D, BatchNormalization , Dropout"
   ]
  },
  {
   "cell_type": "code",
   "execution_count": 77,
   "metadata": {
    "id": "o4uk-X6GQHm4"
   },
   "outputs": [],
   "source": [
    "input_layer=Input(shape=(64,35),dtype=\"float32\")\n",
    "\n",
    "lstm_layer = LSTM(25,name = \"lstm_layer\",return_sequences = True)(inputs = input_layer)\n",
    "\n",
    "average_layer = GlobalAveragePooling1D(data_format='channels_first' )(lstm_layer)\n",
    "\n",
    "dense_1_layer = Dense(64,activation=\"relu\",name =\"dense_1_layer\")(average_layer)\n",
    "\n",
    "output_layer = Dense(10,activation = \"softmax\",name = \"output_layer\")(dense_1_layer)\n",
    "\n",
    "model2=Model(inputs=input_layer, outputs=output_layer)\n"
   ]
  },
  {
   "cell_type": "code",
   "execution_count": 78,
   "metadata": {
    "colab": {
     "base_uri": "https://localhost:8080/"
    },
    "id": "VtMsbGs3aNp_",
    "outputId": "9beb8e33-d520-4562-82a2-df70d554c7b9"
   },
   "outputs": [
    {
     "name": "stdout",
     "output_type": "stream",
     "text": [
      "Model: \"model\"\n",
      "_________________________________________________________________\n",
      "Layer (type)                 Output Shape              Param #   \n",
      "=================================================================\n",
      "input_1 (InputLayer)         [(None, 64, 35)]          0         \n",
      "_________________________________________________________________\n",
      "lstm_layer (LSTM)            (None, 64, 25)            6100      \n",
      "_________________________________________________________________\n",
      "global_average_pooling1d (Gl (None, 64)                0         \n",
      "_________________________________________________________________\n",
      "dense_1_layer (Dense)        (None, 64)                4160      \n",
      "_________________________________________________________________\n",
      "output_layer (Dense)         (None, 10)                650       \n",
      "=================================================================\n",
      "Total params: 10,910\n",
      "Trainable params: 10,910\n",
      "Non-trainable params: 0\n",
      "_________________________________________________________________\n"
     ]
    }
   ],
   "source": [
    "model2.summary()"
   ]
  },
  {
   "cell_type": "code",
   "execution_count": 79,
   "metadata": {
    "id": "E3F7CKmEwrBN"
   },
   "outputs": [],
   "source": [
    "model2.compile(optimizer=tf.keras.optimizers.Adam(),loss='SparseCategoricalCrossentropy',metrics=['accuracy'])  #tf.keras.optimizers.SGD("
   ]
  },
  {
   "cell_type": "code",
   "execution_count": 82,
   "metadata": {
    "colab": {
     "base_uri": "https://localhost:8080/"
    },
    "id": "nsaD1S6qJZ02",
    "outputId": "3b53b240-2c48-47c9-8d87-47a71763bfe2"
   },
   "outputs": [
    {
     "name": "stdout",
     "output_type": "stream",
     "text": [
      "Epoch 1/200\n",
      " 3/88 [>.............................] - ETA: 21s - loss: 2.3014 - accuracy: 0.1250WARNING:tensorflow:Callback method `on_train_batch_begin` is slow compared to the batch time (batch time: 0.0082s vs `on_train_batch_begin` time: 0.0295s). Check your callbacks.\n",
      "WARNING:tensorflow:Callback method `on_train_batch_end` is slow compared to the batch time (batch time: 0.0082s vs `on_train_batch_end` time: 0.0529s). Check your callbacks.\n",
      "88/88 [==============================] - 9s 28ms/step - loss: 2.2564 - accuracy: 0.1686 - val_loss: 2.1609 - val_accuracy: 0.2083\n",
      "f1 score is  0.20833333333333334\n",
      "Epoch 2/200\n",
      "88/88 [==============================] - 1s 16ms/step - loss: 1.9863 - accuracy: 0.2850 - val_loss: 1.8808 - val_accuracy: 0.3567\n",
      "f1 score is  0.35666666666666674\n",
      "Epoch 3/200\n",
      "88/88 [==============================] - 1s 16ms/step - loss: 1.7237 - accuracy: 0.4229 - val_loss: 1.6363 - val_accuracy: 0.4783\n",
      "f1 score is  0.47833333333333333\n",
      "Epoch 4/200\n",
      "88/88 [==============================] - 1s 16ms/step - loss: 1.5343 - accuracy: 0.4979 - val_loss: 1.4883 - val_accuracy: 0.4967\n",
      "f1 score is  0.49666666666666665\n",
      "Epoch 5/200\n",
      "88/88 [==============================] - 1s 16ms/step - loss: 1.3456 - accuracy: 0.5736 - val_loss: 1.3176 - val_accuracy: 0.5583\n",
      "f1 score is  0.5583333333333333\n",
      "Epoch 6/200\n",
      "88/88 [==============================] - 1s 16ms/step - loss: 1.2197 - accuracy: 0.6207 - val_loss: 1.2205 - val_accuracy: 0.5667\n",
      "f1 score is  0.5666666666666667\n",
      "Epoch 7/200\n",
      "88/88 [==============================] - 1s 16ms/step - loss: 1.1438 - accuracy: 0.6450 - val_loss: 1.2257 - val_accuracy: 0.5900\n",
      "f1 score is  0.59\n",
      "Epoch 8/200\n",
      "88/88 [==============================] - 1s 16ms/step - loss: 1.0499 - accuracy: 0.6721 - val_loss: 1.0681 - val_accuracy: 0.6700\n",
      "f1 score is  0.67\n",
      "Epoch 9/200\n",
      "88/88 [==============================] - 1s 16ms/step - loss: 0.9650 - accuracy: 0.6829 - val_loss: 1.0003 - val_accuracy: 0.6667\n",
      "f1 score is  0.6666666666666666\n",
      "Epoch 10/200\n",
      "88/88 [==============================] - 1s 15ms/step - loss: 0.9148 - accuracy: 0.7179 - val_loss: 0.9573 - val_accuracy: 0.7017\n",
      "f1 score is  0.7016666666666667\n",
      "Epoch 11/200\n",
      "88/88 [==============================] - 1s 15ms/step - loss: 0.8592 - accuracy: 0.7271 - val_loss: 0.8920 - val_accuracy: 0.7233\n",
      "f1 score is  0.7233333333333334\n",
      "Epoch 12/200\n",
      "88/88 [==============================] - 1s 16ms/step - loss: 0.8210 - accuracy: 0.7400 - val_loss: 0.8599 - val_accuracy: 0.7217\n",
      "f1 score is  0.7216666666666668\n",
      "Epoch 13/200\n",
      "88/88 [==============================] - 1s 15ms/step - loss: 0.7769 - accuracy: 0.7443 - val_loss: 0.9231 - val_accuracy: 0.6633\n",
      "f1 score is  0.6633333333333333\n",
      "Epoch 14/200\n",
      "88/88 [==============================] - 1s 15ms/step - loss: 0.7549 - accuracy: 0.7607 - val_loss: 0.7923 - val_accuracy: 0.7250\n",
      "f1 score is  0.7250000000000001\n",
      "Epoch 15/200\n",
      "88/88 [==============================] - 1s 15ms/step - loss: 0.7032 - accuracy: 0.7650 - val_loss: 0.7176 - val_accuracy: 0.7583\n",
      "f1 score is  0.7583333333333333\n",
      "Epoch 16/200\n",
      "88/88 [==============================] - 1s 16ms/step - loss: 0.6455 - accuracy: 0.7921 - val_loss: 0.6836 - val_accuracy: 0.7867\n",
      "f1 score is  0.7866666666666666\n",
      "Epoch 17/200\n",
      "88/88 [==============================] - 1s 15ms/step - loss: 0.6608 - accuracy: 0.7664 - val_loss: 0.7011 - val_accuracy: 0.7433\n",
      "f1 score is  0.7433333333333333\n",
      "Epoch 18/200\n",
      "88/88 [==============================] - 1s 15ms/step - loss: 0.6255 - accuracy: 0.7864 - val_loss: 0.6454 - val_accuracy: 0.7883\n",
      "f1 score is  0.7883333333333333\n",
      "Epoch 19/200\n",
      "88/88 [==============================] - 1s 16ms/step - loss: 0.5875 - accuracy: 0.8136 - val_loss: 0.6374 - val_accuracy: 0.7933\n",
      "f1 score is  0.7933333333333333\n",
      "Epoch 20/200\n",
      "88/88 [==============================] - 1s 16ms/step - loss: 0.5700 - accuracy: 0.8064 - val_loss: 0.6196 - val_accuracy: 0.7983\n",
      "f1 score is  0.7983333333333333\n",
      "Epoch 21/200\n",
      "88/88 [==============================] - 1s 15ms/step - loss: 0.5517 - accuracy: 0.8121 - val_loss: 0.6218 - val_accuracy: 0.7750\n",
      "f1 score is  0.775\n",
      "Epoch 22/200\n",
      "88/88 [==============================] - 1s 16ms/step - loss: 0.5342 - accuracy: 0.8336 - val_loss: 0.5848 - val_accuracy: 0.7983\n",
      "f1 score is  0.7983333333333333\n",
      "Epoch 23/200\n",
      "88/88 [==============================] - 1s 16ms/step - loss: 0.5199 - accuracy: 0.8357 - val_loss: 0.5836 - val_accuracy: 0.7933\n",
      "f1 score is  0.7933333333333333\n",
      "Epoch 24/200\n",
      "88/88 [==============================] - 1s 16ms/step - loss: 0.5051 - accuracy: 0.8264 - val_loss: 0.5600 - val_accuracy: 0.7933\n",
      "f1 score is  0.7933333333333333\n",
      "Epoch 25/200\n",
      "88/88 [==============================] - 1s 16ms/step - loss: 0.5041 - accuracy: 0.8307 - val_loss: 0.6045 - val_accuracy: 0.7800\n",
      "f1 score is  0.78\n",
      "Epoch 26/200\n",
      "88/88 [==============================] - 1s 15ms/step - loss: 0.4707 - accuracy: 0.8450 - val_loss: 0.6140 - val_accuracy: 0.7717\n",
      "f1 score is  0.7716666666666666\n",
      "Epoch 27/200\n",
      "88/88 [==============================] - 1s 17ms/step - loss: 0.4973 - accuracy: 0.8429 - val_loss: 0.5449 - val_accuracy: 0.8167\n",
      "micro f1 score has reached 0.80% so training is stopping\n",
      "f1 score is  0.8166666666666667\n"
     ]
    },
    {
     "data": {
      "text/plain": [
       "<keras.callbacks.History at 0x7fc9204c6b10>"
      ]
     },
     "execution_count": 82,
     "metadata": {},
     "output_type": "execute_result"
    }
   ],
   "source": [
    "model2.fit(X_train_spectogram,y_train,\n",
    "           epochs=200,\n",
    "           batch_size=16,\n",
    "           validation_data=(X_test_spectrogram,y_test),\n",
    "           callbacks = [f1_score2,tensorboard_callback2])"
   ]
  },
  {
   "cell_type": "code",
   "execution_count": 85,
   "metadata": {
    "colab": {
     "base_uri": "https://localhost:8080/",
     "height": 35
    },
    "id": "nskgUpEHbvoe",
    "outputId": "571cf3d1-22e9-47e4-ac54-567625bae6fc"
   },
   "outputs": [
    {
     "data": {
      "application/vnd.google.colaboratory.intrinsic+json": {
       "type": "string"
      },
      "text/plain": [
       "'logs/20210913-091940'"
      ]
     },
     "execution_count": 85,
     "metadata": {},
     "output_type": "execute_result"
    }
   ],
   "source": [
    "logdir2"
   ]
  },
  {
   "cell_type": "code",
   "execution_count": 3,
   "metadata": {},
   "outputs": [
    {
     "data": {
      "image/png": "[encoded data removed]",
      "text/plain": [
       "<IPython.core.display.Image object>"
      ]
     },
     "execution_count": 3,
     "metadata": {},
     "output_type": "execute_result"
    }
   ],
   "source": [
    "from IPython.display import Image\n",
    "Image(filename=r'C:\\Users\\kingjames\\Downloads\\spoken image 2 tensorboard.png')"
   ]
  },
  {
   "cell_type": "code",
   "execution_count": 90,
   "metadata": {
    "colab": {
     "base_uri": "https://localhost:8080/",
     "height": 533
    },
    "id": "ao24zoEglNXq",
    "outputId": "4c76f566-27dd-43a9-9aa9-9d2de328bde8"
   },
   "outputs": [
    {
     "data": {
      "image/png": "[encoded data removed]",
      "text/plain": [
       "<IPython.core.display.Image object>"
      ]
     },
     "execution_count": 90,
     "metadata": {},
     "output_type": "execute_result"
    }
   ],
   "source": [
    "from tensorflow.keras.utils import plot_model\n",
    "plot_model(model2, to_file='model_plot.png', show_shapes=True, show_layer_names=True)"
   ]
  },
  {
   "cell_type": "markdown",
   "metadata": {
    "id": "aSl8ZOXjaNqJ"
   },
   "source": [
    "### 3. data augmentation  \n",
    "<pre>\n",
    "Till now we have done with 2000 samples only. It is very less data. We are giving the process of generating augmented data below.\n",
    "\n",
    "There are two types of augmentation:\n",
    "1. time stretching - Time stretching either increases or decreases the length of the file. For time stretching we move the file 30% faster or slower\n",
    "2. pitch shifting - pitch shifting moves the frequencies higher or lower. For pitch shifting we shift up or down one half-step.\n",
    "</pre>"
   ]
  },
  {
   "cell_type": "code",
   "execution_count": 91,
   "metadata": {
    "id": "dRGdGsG8bfOV"
   },
   "outputs": [],
   "source": [
    "from sklearn.model_selection import train_test_split\n",
    "X_train1, X_test1, y_train1, y_test1 = train_test_split(all_files, label, test_size=0.20, random_state=45,stratify=label)"
   ]
  },
  {
   "cell_type": "code",
   "execution_count": 92,
   "metadata": {
    "colab": {
     "base_uri": "https://localhost:8080/"
    },
    "id": "sn7IPtZgwKfA",
    "outputId": "1feea3e1-7015-4428-ad30-815cc809dbc3"
   },
   "outputs": [
    {
     "name": "stdout",
     "output_type": "stream",
     "text": [
      "1600\n"
     ]
    }
   ],
   "source": [
    "print(len(X_train1))"
   ]
  },
  {
   "cell_type": "code",
   "execution_count": 93,
   "metadata": {
    "id": "WFlJV_BwwhdI"
   },
   "outputs": [],
   "source": [
    "X_train1=pd.DataFrame(X_train1,columns=[\"path\"])\n",
    "y_train1=pd.DataFrame(y_train1,columns=['label'])\n",
    "X_test1=pd.DataFrame(X_test1,columns=['path'])\n",
    "y_test1=pd.DataFrame(y_test1,columns=[\"label\"])"
   ]
  },
  {
   "cell_type": "code",
   "execution_count": 94,
   "metadata": {
    "colab": {
     "base_uri": "https://localhost:8080/"
    },
    "id": "4N1t1NbhzVl1",
    "outputId": "98d87a0b-1061-48d9-9f9e-76d2c8ad250b"
   },
   "outputs": [
    {
     "data": {
      "text/plain": [
       "8"
      ]
     },
     "execution_count": 94,
     "metadata": {},
     "output_type": "execute_result"
    }
   ],
   "source": [
    "y_train1.label[0]"
   ]
  },
  {
   "cell_type": "code",
   "execution_count": 95,
   "metadata": {
    "colab": {
     "base_uri": "https://localhost:8080/"
    },
    "id": "VKYqwnKfwimS",
    "outputId": "52194f9f-6dc3-4184-a449-8d6d07cab343"
   },
   "outputs": [
    {
     "name": "stdout",
     "output_type": "stream",
     "text": [
      "(1600, 1)\n",
      "                                    path\n",
      "0      /content/recordings/8_theo_17.wav\n",
      "1      /content/recordings/2_theo_14.wav\n",
      "2  /content/recordings/7_yweweler_28.wav\n",
      "3      /content/recordings/3_theo_13.wav\n"
     ]
    }
   ],
   "source": [
    "print(X_train1.shape)\n",
    "print(X_train1.head(4))"
   ]
  },
  {
   "cell_type": "code",
   "execution_count": 96,
   "metadata": {
    "colab": {
     "base_uri": "https://localhost:8080/"
    },
    "id": "YAK9av6BwyVG",
    "outputId": "d59dcd27-d107-4e85-9637-204d3fe4e75a"
   },
   "outputs": [
    {
     "name": "stdout",
     "output_type": "stream",
     "text": [
      "(1600, 1)\n"
     ]
    }
   ],
   "source": [
    "print(y_train1.shape)"
   ]
  },
  {
   "cell_type": "code",
   "execution_count": 97,
   "metadata": {
    "colab": {
     "base_uri": "https://localhost:8080/"
    },
    "id": "aI7780SKijVM",
    "outputId": "5ad3b91a-7229-430a-e769-bca68681cf65"
   },
   "outputs": [
    {
     "name": "stdout",
     "output_type": "stream",
     "text": [
      "(400, 1)\n"
     ]
    }
   ],
   "source": [
    "print(X_test1.shape)"
   ]
  },
  {
   "cell_type": "markdown",
   "metadata": {
    "id": "EhG_FAfkyq3l"
   },
   "source": [
    "#augmentation"
   ]
  },
  {
   "cell_type": "code",
   "execution_count": 98,
   "metadata": {
    "id": "jR4JSEDgaNqK"
   },
   "outputs": [],
   "source": [
    "## generating augmented data. \n",
    "def generate_augmented_data(file_path):\n",
    "    augmented_data = []\n",
    "    samples = load_wav(file_path,get_duration=False)\n",
    "    for time_value in [0.7, 1, 1.3]:\n",
    "        for pitch_value in [-1, 0, 1]:\n",
    "            time_stretch_data = librosa.effects.time_stretch(samples, rate=time_value)\n",
    "            final_data = librosa.effects.pitch_shift(time_stretch_data, sr=sample_rate, n_steps=pitch_value)\n",
    "            augmented_data.append(final_data)\n",
    "    return augmented_data"
   ]
  },
  {
   "cell_type": "code",
   "execution_count": 99,
   "metadata": {
    "id": "6aD3HWeNRWet"
   },
   "outputs": [],
   "source": [
    "X_train_augmented = []  # we only augment train data only not test data\n",
    "X_test_augmented=[]  #we dont augment test data, we only augment train data"
   ]
  },
  {
   "cell_type": "code",
   "execution_count": 100,
   "metadata": {
    "colab": {
     "base_uri": "https://localhost:8080/"
    },
    "id": "40ymVCoDRl8X",
    "outputId": "3c749a59-7987-49c6-d559-23ca6be04a15"
   },
   "outputs": [
    {
     "name": "stderr",
     "output_type": "stream",
     "text": [
      "100%|██████████| 1600/1600 [06:05<00:00,  4.37it/s]\n"
     ]
    }
   ],
   "source": [
    "#train data\n",
    "from tqdm import tqdm\n",
    "for i in tqdm(range(len(X_train1))):\n",
    "    a1=generate_augmented_data(X_train1.path[i]) #augmenting # for each point we are creating 9 duplicate point\n",
    "    for j in a1:\n",
    "        X_train_augmented.append(j)"
   ]
  },
  {
   "cell_type": "code",
   "execution_count": 101,
   "metadata": {
    "colab": {
     "base_uri": "https://localhost:8080/"
    },
    "id": "ZP5Q2rpKTCKI",
    "outputId": "29c4de9c-e0ea-4bec-e1b8-6a29cd31202f"
   },
   "outputs": [
    {
     "data": {
      "text/plain": [
       "14400"
      ]
     },
     "execution_count": 101,
     "metadata": {},
     "output_type": "execute_result"
    }
   ],
   "source": [
    "len(X_train_augmented)"
   ]
  },
  {
   "cell_type": "code",
   "execution_count": 102,
   "metadata": {
    "colab": {
     "base_uri": "https://localhost:8080/"
    },
    "id": "GBZOOSfIH2wL",
    "outputId": "a46a246a-7d7b-48c8-f599-ddc3c7ed9074"
   },
   "outputs": [
    {
     "name": "stdout",
     "output_type": "stream",
     "text": [
      "<class 'list'>\n"
     ]
    }
   ],
   "source": [
    "print(type(X_train_augmented))"
   ]
  },
  {
   "cell_type": "code",
   "execution_count": 103,
   "metadata": {
    "colab": {
     "base_uri": "https://localhost:8080/"
    },
    "id": "x5WpkvM8NZx9",
    "outputId": "abb7826b-4937-4538-e894-4bc84c3ba837"
   },
   "outputs": [
    {
     "name": "stderr",
     "output_type": "stream",
     "text": [
      "100%|██████████| 400/400 [00:05<00:00, 66.72it/s]\n"
     ]
    }
   ],
   "source": [
    "#creting samples for test data \n",
    "for i in tqdm(X_test1.path):\n",
    "    s2,d2=load_wav(i)  # here no augmenting just original point as it is\n",
    "    X_test_augmented.append(s2)   "
   ]
  },
  {
   "cell_type": "code",
   "execution_count": 104,
   "metadata": {
    "colab": {
     "base_uri": "https://localhost:8080/"
    },
    "id": "wvs2P-RvylCk",
    "outputId": "76bde8a4-4ba5-4f61-91dd-caebdd8c91c0"
   },
   "outputs": [
    {
     "data": {
      "text/plain": [
       "400"
      ]
     },
     "execution_count": 104,
     "metadata": {},
     "output_type": "execute_result"
    }
   ],
   "source": [
    "len(X_test_augmented)"
   ]
  },
  {
   "cell_type": "markdown",
   "metadata": {
    "id": "tjwJ7Jm_yv8L"
   },
   "source": [
    "#Creating labels for augmented data"
   ]
  },
  {
   "cell_type": "code",
   "execution_count": 105,
   "metadata": {
    "id": "n29jQL9jyvKt"
   },
   "outputs": [],
   "source": [
    "y_train_augmented=[]\n",
    "y_test_augmented =[]"
   ]
  },
  {
   "cell_type": "code",
   "execution_count": 106,
   "metadata": {
    "id": "UVODl7EH04c4"
   },
   "outputs": [],
   "source": [
    "for i in y_train1.label:  #train\n",
    "    for j in range(9):\n",
    "        y_train_augmented.append(i) "
   ]
  },
  {
   "cell_type": "code",
   "execution_count": 107,
   "metadata": {
    "colab": {
     "base_uri": "https://localhost:8080/"
    },
    "id": "-isL5sGN1Yxk",
    "outputId": "d396ed3a-4176-4a11-eac1-3eed83f06919"
   },
   "outputs": [
    {
     "data": {
      "text/plain": [
       "14400"
      ]
     },
     "execution_count": 107,
     "metadata": {},
     "output_type": "execute_result"
    }
   ],
   "source": [
    "len(y_train_augmented)"
   ]
  },
  {
   "cell_type": "code",
   "execution_count": 108,
   "metadata": {
    "id": "v7HJCmVpSyWU"
   },
   "outputs": [],
   "source": [
    "y_train_augmented=np.array(y_train_augmented)"
   ]
  },
  {
   "cell_type": "code",
   "execution_count": 109,
   "metadata": {
    "id": "Re53mt68zMqg"
   },
   "outputs": [],
   "source": [
    "for i in y_test1.label:  #test\n",
    "    y_test_augmented.append(i) "
   ]
  },
  {
   "cell_type": "code",
   "execution_count": 110,
   "metadata": {
    "colab": {
     "base_uri": "https://localhost:8080/"
    },
    "id": "z1X7O0mT1rWe",
    "outputId": "d59b5916-a239-40b4-88b6-63aa16a3d993"
   },
   "outputs": [
    {
     "data": {
      "text/plain": [
       "400"
      ]
     },
     "execution_count": 110,
     "metadata": {},
     "output_type": "execute_result"
    }
   ],
   "source": [
    "len(y_test_augmented)"
   ]
  },
  {
   "cell_type": "code",
   "execution_count": 111,
   "metadata": {
    "id": "2WSe7K8XS5xa"
   },
   "outputs": [],
   "source": [
    "y_test_augmented=np.array(y_test_augmented)"
   ]
  },
  {
   "cell_type": "code",
   "execution_count": 112,
   "metadata": {
    "colab": {
     "base_uri": "https://localhost:8080/"
    },
    "id": "xZac_IekI-gj",
    "outputId": "d96e514e-00bb-4e69-bacc-f2bff5b8d6fd"
   },
   "outputs": [
    {
     "name": "stdout",
     "output_type": "stream",
     "text": [
      "<class 'numpy.ndarray'>\n"
     ]
    }
   ],
   "source": [
    "print(type(y_test_augmented))"
   ]
  },
  {
   "cell_type": "code",
   "execution_count": 113,
   "metadata": {
    "id": "ExBRs6A4A4L_"
   },
   "outputs": [],
   "source": [
    "max_length=17640"
   ]
  },
  {
   "cell_type": "code",
   "execution_count": 114,
   "metadata": {
    "id": "e1DsgHqX12y1"
   },
   "outputs": [],
   "source": [
    "X_train1_pad_seq_aug=np.zeros((len(X_train_augmented),max_length))\n",
    "X_test1_pad_seq_aug=np.zeros((len(X_test_augmented), max_length))\n",
    "X_train1_mask_aug=np.zeros((len(X_train_augmented),max_length),dtype=\"bool\")  #masked train numpy array\n",
    "X_test1_mask_aug=np.zeros((len(X_test_augmented), max_length),dtype=\"bool\")  # masked test numpy array "
   ]
  },
  {
   "cell_type": "code",
   "execution_count": 115,
   "metadata": {
    "colab": {
     "base_uri": "https://localhost:8080/"
    },
    "id": "pPNg-dPR1214",
    "outputId": "a9647059-7bc9-4144-97f1-a64f72b3e71b"
   },
   "outputs": [
    {
     "name": "stdout",
     "output_type": "stream",
     "text": [
      "(14400, 17640)\n",
      "(400, 17640)\n",
      "(14400, 17640)\n",
      "(400, 17640)\n"
     ]
    }
   ],
   "source": [
    "print(X_train1_pad_seq_aug.shape)\n",
    "print(X_test1_pad_seq_aug.shape)\n",
    "print(X_train1_mask_aug.shape)\n",
    "print(X_test1_mask_aug.shape)"
   ]
  },
  {
   "cell_type": "code",
   "execution_count": 116,
   "metadata": {
    "id": "f3wVhOh8BPcL"
   },
   "outputs": [],
   "source": [
    "for i in range(len(X_train_augmented)):\n",
    "    for j  in range(len(X_train_augmented[i])):\n",
    "        if j  < 17640:\n",
    "            X_train1_pad_seq_aug[i][j]= X_train_augmented[i][j]\n",
    "            X_train1_mask_aug[i][j]=1\n"
   ]
  },
  {
   "cell_type": "code",
   "execution_count": 117,
   "metadata": {
    "colab": {
     "base_uri": "https://localhost:8080/"
    },
    "id": "RpKhkNLdLLeE",
    "outputId": "6c876f16-aea0-4d44-9dc6-f3e4ff9f1fa5"
   },
   "outputs": [
    {
     "data": {
      "text/plain": [
       "array([0.00017661, 0.00019431, 0.00014904, ..., 0.00011464, 0.0004445 ,\n",
       "       0.00030142], dtype=float32)"
      ]
     },
     "execution_count": 117,
     "metadata": {},
     "output_type": "execute_result"
    }
   ],
   "source": [
    "X_train_augmented[0]"
   ]
  },
  {
   "cell_type": "code",
   "execution_count": 118,
   "metadata": {
    "colab": {
     "base_uri": "https://localhost:8080/"
    },
    "id": "FDEDfE1mRm7o",
    "outputId": "109b9e63-7b4d-4c08-a1b0-72f5db5b74b7"
   },
   "outputs": [
    {
     "data": {
      "text/plain": [
       "10856"
      ]
     },
     "execution_count": 118,
     "metadata": {},
     "output_type": "execute_result"
    }
   ],
   "source": [
    "len(X_train_augmented[0])"
   ]
  },
  {
   "cell_type": "code",
   "execution_count": 119,
   "metadata": {
    "colab": {
     "base_uri": "https://localhost:8080/"
    },
    "id": "f7whNTxVLEGo",
    "outputId": "6af72649-deb4-4288-fbb3-b928860230f4"
   },
   "outputs": [
    {
     "data": {
      "text/plain": [
       "array([0.00017661, 0.00019431, 0.00014904, ..., 0.        , 0.        ,\n",
       "       0.        ])"
      ]
     },
     "execution_count": 119,
     "metadata": {},
     "output_type": "execute_result"
    }
   ],
   "source": [
    "X_train1_pad_seq_aug[0]"
   ]
  },
  {
   "cell_type": "code",
   "execution_count": 120,
   "metadata": {
    "colab": {
     "base_uri": "https://localhost:8080/"
    },
    "id": "z7t8DJcQRsIx",
    "outputId": "273a047a-670b-4618-ec0f-39ee34a5ea80"
   },
   "outputs": [
    {
     "data": {
      "text/plain": [
       "17640"
      ]
     },
     "execution_count": 120,
     "metadata": {},
     "output_type": "execute_result"
    }
   ],
   "source": [
    "len(X_train1_pad_seq_aug[0])"
   ]
  },
  {
   "cell_type": "code",
   "execution_count": 121,
   "metadata": {
    "id": "Lw29xJniBPew"
   },
   "outputs": [],
   "source": [
    "for i in range(len(X_test_augmented)):\n",
    "    for j in range(len(X_test_augmented[i])):\n",
    "        if j  < 17640:\n",
    "            X_test1_pad_seq_aug[i][j]=X_test_augmented[i][j]\n",
    "            X_test1_mask_aug[i][j]=1"
   ]
  },
  {
   "cell_type": "code",
   "execution_count": 122,
   "metadata": {
    "id": "kq2v6GmfwlQ-"
   },
   "outputs": [],
   "source": [
    "X_train1_pad_seq_aug11=np.reshape(X_train1_pad_seq_aug,(14400,17640,1))\n",
    "X_test1_pad_seq_aug11=np.reshape(X_test1_pad_seq_aug,(400,17640,1))"
   ]
  },
  {
   "cell_type": "code",
   "execution_count": 123,
   "metadata": {
    "colab": {
     "base_uri": "https://localhost:8080/"
    },
    "id": "VJV5nFH4yZnb",
    "outputId": "57954da8-62c8-4cef-94ef-556024f0bb54"
   },
   "outputs": [
    {
     "name": "stdout",
     "output_type": "stream",
     "text": [
      "(14400, 17640, 1)\n",
      "************\n",
      "(400, 17640, 1)\n"
     ]
    }
   ],
   "source": [
    "print(X_train1_pad_seq_aug11.shape)\n",
    "print(\"************\")\n",
    "print(X_test1_pad_seq_aug11.shape)"
   ]
  },
  {
   "cell_type": "markdown",
   "metadata": {
    "id": "G2zm9TLMwvDD"
   },
   "source": [
    "#tensorboard callback for model 3"
   ]
  },
  {
   "cell_type": "code",
   "execution_count": 124,
   "metadata": {
    "colab": {
     "base_uri": "https://localhost:8080/"
    },
    "id": "BruCqIIAwuMr",
    "outputId": "24cc530e-b226-463d-a9bf-09945e43f5e2"
   },
   "outputs": [
    {
     "name": "stdout",
     "output_type": "stream",
     "text": [
      "WARNING:tensorflow:`write_grads` will be ignored in TensorFlow 2.0 for the `TensorBoard` Callback.\n"
     ]
    }
   ],
   "source": [
    "logdir3 = os.path.join(\"logs\", datetime.datetime.now().strftime(\"%Y%m%d-%H%M%S\"))\n",
    "tensorboard_callback3 = tf.keras.callbacks.TensorBoard(logdir3, histogram_freq=1,write_graph=True,write_grads=True)"
   ]
  },
  {
   "cell_type": "markdown",
   "metadata": {
    "id": "sfI43NesjhRO"
   },
   "source": [
    "#micro f1 score for model3 "
   ]
  },
  {
   "cell_type": "code",
   "execution_count": 125,
   "metadata": {
    "id": "3l5s3MarIT2h"
   },
   "outputs": [],
   "source": [
    "from sklearn.metrics import f1_score\n",
    "class micro_f1_score3(tf.keras.callbacks.Callback):\n",
    "    def on_train_begin(self, logs={}):\n",
    "        self.metrics11={'f1_score': []}\n",
    "\n",
    "    def on_epoch_end(self, epoch, logs={}): \n",
    "        y_pred_final=[]\n",
    "        for i in range(len(y_test_augmented)):\n",
    "            c91=X_test1_pad_seq_aug11[i].T      #X_test1_pad_seq_aug11\n",
    "            c92=np.reshape(X_test1_mask_aug[i],(1,17640))\n",
    "            y_pred=np.argmax(self.model.predict((c91,c92)))\n",
    "            y_pred_final.append(y_pred)\n",
    "\n",
    "        from sklearn.metrics import f1_score\n",
    "        f11=f1_score(y_test_augmented,y_pred_final,average='micro')\n",
    "\n",
    "        \n",
    "\n",
    "        self.metrics11[\"f1_score\"].append(f11)\n",
    "\n",
    "        if self.metrics11[\"f1_score\"][epoch] > 0.10:\n",
    "             print(\"micro f1 score has reached 0.10% so training is stopping\")\n",
    "             self.model.stop_training = True\n",
    "\n",
    "\n",
    "        print(\"f1 score is \",self.metrics11[\"f1_score\"][epoch])\n",
    " "
   ]
  },
  {
   "cell_type": "code",
   "execution_count": 126,
   "metadata": {
    "id": "597dkCjuJv8h"
   },
   "outputs": [],
   "source": [
    "f1_score3 = micro_f1_score3()"
   ]
  },
  {
   "cell_type": "markdown",
   "metadata": {
    "id": "g53tIoYaKfS4"
   },
   "source": [
    "#Model -3 (Augmented)"
   ]
  },
  {
   "cell_type": "code",
   "execution_count": 127,
   "metadata": {
    "id": "9CoWeLRbKpJa"
   },
   "outputs": [],
   "source": [
    "from tensorflow.keras.layers import Input, LSTM, Dense\n",
    "from tensorflow.keras.models import Model\n",
    "import tensorflow as tf"
   ]
  },
  {
   "cell_type": "code",
   "execution_count": 128,
   "metadata": {
    "id": "13uTaT5hBPhu"
   },
   "outputs": [],
   "source": [
    "## as discussed above, please write the LSTM\n",
    "input_layer=Input(shape=(max_length,1),dtype=\"float32\")\n",
    "input_mask=Input(shape=(max_length),dtype=\"bool\")\n",
    "lstm_layer=LSTM(30, name=\"lstm_layer\")(inputs = input_layer,mask = input_mask)\n",
    "dense_layer=Dense(64, activation=\"relu\")(lstm_layer)\n",
    "output_layer=Dense(10,activation=\"softmax\")(dense_layer)\n",
    "model3=Model(inputs=[input_layer,input_mask], outputs=output_layer)"
   ]
  },
  {
   "cell_type": "code",
   "execution_count": 131,
   "metadata": {
    "id": "dhtz4gJlBPkl"
   },
   "outputs": [],
   "source": [
    "model3.compile(optimizer=tf.keras.optimizers.Adam(),loss='SparseCategoricalCrossentropy',metrics=['accuracy'])"
   ]
  },
  {
   "cell_type": "code",
   "execution_count": 132,
   "metadata": {
    "colab": {
     "base_uri": "https://localhost:8080/"
    },
    "id": "mcR19E_sBPs6",
    "outputId": "6155dcbc-8695-441e-b809-407a5171ab00"
   },
   "outputs": [
    {
     "name": "stdout",
     "output_type": "stream",
     "text": [
      "Epoch 1/2\n",
      "  1/900 [..............................] - ETA: 1:13:33 - loss: 2.3037 - accuracy: 0.0625ERROR:tensorflow:Failed to start profiler: Another profiler is running.\n",
      "900/900 [==============================] - 1062s 1s/step - loss: 2.3032 - accuracy: 0.0986 - val_loss: 2.3026 - val_accuracy: 0.1000\n",
      "micro f1 score has reached 0.10% so training is stopping\n",
      "f1 score is  0.10000000000000002\n"
     ]
    },
    {
     "data": {
      "text/plain": [
       "<keras.callbacks.History at 0x7fc8c3426d50>"
      ]
     },
     "execution_count": 132,
     "metadata": {},
     "output_type": "execute_result"
    }
   ],
   "source": [
    "model3.fit([X_train1_pad_seq_aug11,X_train1_mask_aug],y_train_augmented,\n",
    "           epochs=2,\n",
    "           batch_size=16,\n",
    "           validation_data=([X_test1_pad_seq_aug11,X_test1_mask_aug],y_test_augmented),\n",
    "           callbacks = [f1_score3,tensorboard_callback3])"
   ]
  },
  {
   "cell_type": "code",
   "execution_count": 135,
   "metadata": {
    "colab": {
     "base_uri": "https://localhost:8080/",
     "height": 422
    },
    "id": "uubBghdPs2o4",
    "outputId": "69d2bf66-2a64-452b-e50b-1eb5a90eddf6"
   },
   "outputs": [
    {
     "data": {
      "image/png": "[encoded data removed]",
      "text/plain": [
       "<IPython.core.display.Image object>"
      ]
     },
     "execution_count": 135,
     "metadata": {},
     "output_type": "execute_result"
    }
   ],
   "source": [
    "from tensorflow.keras.utils import plot_model\n",
    "plot_model(model3, to_file='model_plot.png', show_shapes=True, show_layer_names=True)"
   ]
  },
  {
   "cell_type": "code",
   "execution_count": 133,
   "metadata": {
    "colab": {
     "base_uri": "https://localhost:8080/",
     "height": 35
    },
    "id": "ZcxIfCnLqR68",
    "outputId": "1841d86c-ec9e-4ed2-bd78-0ff5c18974f6"
   },
   "outputs": [
    {
     "data": {
      "application/vnd.google.colaboratory.intrinsic+json": {
       "type": "string"
      },
      "text/plain": [
       "'logs/20210913-095116'"
      ]
     },
     "execution_count": 133,
     "metadata": {},
     "output_type": "execute_result"
    }
   ],
   "source": [
    "logdir3"
   ]
  },
  {
   "cell_type": "code",
   "execution_count": 4,
   "metadata": {},
   "outputs": [
    {
     "data": {
      "image/png": "[encoded data removed]",
      "text/plain": [
       "<IPython.core.display.Image object>"
      ]
     },
     "execution_count": 4,
     "metadata": {},
     "output_type": "execute_result"
    }
   ],
   "source": [
    "from IPython.display import Image\n",
    "Image(filename=r'C:\\Users\\kingjames\\Downloads\\spoken digit 3 tensorboard.png')"
   ]
  },
  {
   "cell_type": "markdown",
   "metadata": {
    "id": "BTiSH2ceV997"
   },
   "source": [
    "#model 4"
   ]
  },
  {
   "cell_type": "markdown",
   "metadata": {
    "id": "o857dQGsXCnG"
   },
   "source": [
    "#converting augmented data into spectrogram  then applying model"
   ]
  },
  {
   "cell_type": "code",
   "execution_count": 136,
   "metadata": {
    "id": "MGd6odbgV8gU"
   },
   "outputs": [],
   "source": [
    "def convert_to_spectrogram(raw_data):\n",
    "    '''converting to spectrogram'''\n",
    "    spectrum = librosa.feature.melspectrogram(y=raw_data, sr=sample_rate, n_mels=64)\n",
    "    logmel_spectrum = librosa.power_to_db(S=spectrum, ref=np.max)\n",
    "    return logmel_spectrum"
   ]
  },
  {
   "cell_type": "code",
   "execution_count": 137,
   "metadata": {
    "id": "qVojPDkTV8jj"
   },
   "outputs": [],
   "source": [
    "X_train_spectrogram_aug=[]\n",
    "X_test_spectrogram_aug=[]"
   ]
  },
  {
   "cell_type": "code",
   "execution_count": 138,
   "metadata": {
    "colab": {
     "base_uri": "https://localhost:8080/"
    },
    "id": "72He_aJnV8mQ",
    "outputId": "6e5fe5e0-0878-4413-f0b1-cf5de77041ff"
   },
   "outputs": [
    {
     "name": "stderr",
     "output_type": "stream",
     "text": [
      "100%|██████████| 14400/14400 [01:37<00:00, 148.22it/s]\n"
     ]
    },
    {
     "data": {
      "text/plain": [
       "(14400, 64, 35)"
      ]
     },
     "execution_count": 138,
     "metadata": {},
     "output_type": "execute_result"
    }
   ],
   "source": [
    "for i in tqdm(X_train1_pad_seq_aug):\n",
    "    spectogram=convert_to_spectrogram(i)\n",
    "    X_train_spectrogram_aug.append(spectogram)\n",
    "\n",
    "X_train_spectrogram_aug=np.array(X_train_spectrogram_aug)\n",
    "X_train_spectrogram_aug.shape"
   ]
  },
  {
   "cell_type": "code",
   "execution_count": 139,
   "metadata": {
    "colab": {
     "base_uri": "https://localhost:8080/"
    },
    "id": "OlyJmTPSV8ow",
    "outputId": "25387900-0a1b-4f60-d17d-c064034a6a38"
   },
   "outputs": [
    {
     "name": "stderr",
     "output_type": "stream",
     "text": [
      "100%|██████████| 400/400 [00:02<00:00, 150.68it/s]\n"
     ]
    },
    {
     "data": {
      "text/plain": [
       "(400, 64, 35)"
      ]
     },
     "execution_count": 139,
     "metadata": {},
     "output_type": "execute_result"
    }
   ],
   "source": [
    "for i in tqdm(X_test1_pad_seq_aug):\n",
    "    spectogram=convert_to_spectrogram(i)\n",
    "    X_test_spectrogram_aug.append(spectogram)\n",
    "\n",
    "X_test_spectrogram_aug=np.array(X_test_spectrogram_aug)\n",
    "X_test_spectrogram_aug.shape"
   ]
  },
  {
   "cell_type": "code",
   "execution_count": null,
   "metadata": {
    "id": "etlHS1-RxwGu"
   },
   "outputs": [],
   "source": []
  },
  {
   "cell_type": "markdown",
   "metadata": {
    "id": "7iVJNr06yD-8"
   },
   "source": [
    "#micro f1 score for model 4"
   ]
  },
  {
   "cell_type": "code",
   "execution_count": 140,
   "metadata": {
    "id": "tSnDvY_jyG1E"
   },
   "outputs": [],
   "source": [
    "from sklearn.metrics import f1_score\n",
    "class micro_f1_score4(tf.keras.callbacks.Callback):\n",
    "    def on_train_begin(self, logs={}):\n",
    "        self.metrics11={'f1_score': []}\n",
    "\n",
    "    def on_epoch_end(self, epoch, logs={}): \n",
    "        y_pred_final=[]\n",
    "        for i in range(len(y_test_augmented)):\n",
    "            b91=X_test_spectrogram_aug[i]\n",
    "            b92=np.reshape(b91,(1,64,35))  # here shape is differeent\n",
    "            \n",
    "            y_pred=np.argmax(self.model.predict((b92)))\n",
    "            y_pred_final.append(y_pred)\n",
    "\n",
    "        from sklearn.metrics import f1_score\n",
    "        f11=f1_score(y_test_augmented,y_pred_final,average='micro')\n",
    "\n",
    "        self.metrics11[\"f1_score\"].append(f11)\n",
    "\n",
    "        if self.metrics11[\"f1_score\"][epoch] > 0.80:\n",
    "             print(\"micro f1 score has reached 0.80% so training is stopping\")\n",
    "             self.model.stop_training = True\n",
    "\n",
    "        \n",
    "\n",
    "        print(\"f1 score is \",self.metrics11[\"f1_score\"][epoch])\n",
    " "
   ]
  },
  {
   "cell_type": "code",
   "execution_count": 141,
   "metadata": {
    "id": "5FlYWlJvyHAs"
   },
   "outputs": [],
   "source": [
    "f1_score4 = micro_f1_score4()"
   ]
  },
  {
   "cell_type": "code",
   "execution_count": null,
   "metadata": {
    "id": "ZLlgnroVyHHb"
   },
   "outputs": [],
   "source": []
  },
  {
   "cell_type": "markdown",
   "metadata": {
    "id": "3x1SV2jvxzXM"
   },
   "source": [
    "#tensorboard callback for model 4"
   ]
  },
  {
   "cell_type": "code",
   "execution_count": 142,
   "metadata": {
    "colab": {
     "base_uri": "https://localhost:8080/"
    },
    "id": "XHjvF9texwTf",
    "outputId": "6c040ee7-508b-46e3-ba74-59a575696325"
   },
   "outputs": [
    {
     "name": "stdout",
     "output_type": "stream",
     "text": [
      "WARNING:tensorflow:`write_grads` will be ignored in TensorFlow 2.0 for the `TensorBoard` Callback.\n",
      "ERROR:tensorflow:Failed to start profiler: Another profiler is running.\n"
     ]
    }
   ],
   "source": [
    "logdir4 = os.path.join(\"logs\", datetime.datetime.now().strftime(\"%Y%m%d-%H%M%S\"))\n",
    "tensorboard_callback4 = tf.keras.callbacks.TensorBoard(logdir4, histogram_freq=1,write_graph=True,write_grads=True)"
   ]
  },
  {
   "cell_type": "code",
   "execution_count": null,
   "metadata": {
    "id": "XC9aRjfCx6Aq"
   },
   "outputs": [],
   "source": []
  },
  {
   "cell_type": "code",
   "execution_count": 143,
   "metadata": {
    "id": "4frwx8PqBh3S"
   },
   "outputs": [],
   "source": [
    "from tensorflow.keras.layers import Input, LSTM, Dense , GlobalAveragePooling1D"
   ]
  },
  {
   "cell_type": "code",
   "execution_count": 144,
   "metadata": {
    "id": "UaIh9PM0BPvv"
   },
   "outputs": [],
   "source": [
    "## as discussed above, please write the LSTM\n",
    "input_layer=Input(shape=(64,35),dtype=\"float32\")\n",
    "lstm_layer=LSTM(30, name=\"lstm_layer\",return_sequences = True)(inputs = input_layer)\n",
    "average_layer = GlobalAveragePooling1D(data_format='channels_last')(lstm_layer)\n",
    "dense_layer=Dense(64, activation=\"relu\")(average_layer)\n",
    "output_layer=Dense(10,activation=\"softmax\")(dense_layer)\n",
    "model4=Model(inputs=input_layer, outputs=output_layer)"
   ]
  },
  {
   "cell_type": "code",
   "execution_count": 145,
   "metadata": {
    "colab": {
     "base_uri": "https://localhost:8080/"
    },
    "id": "-TzKi21SBPy4",
    "outputId": "ee77c759-55ab-4b4a-bbb3-14c6374f3ff2"
   },
   "outputs": [
    {
     "name": "stdout",
     "output_type": "stream",
     "text": [
      "Model: \"model_2\"\n",
      "_________________________________________________________________\n",
      "Layer (type)                 Output Shape              Param #   \n",
      "=================================================================\n",
      "input_4 (InputLayer)         [(None, 64, 35)]          0         \n",
      "_________________________________________________________________\n",
      "lstm_layer (LSTM)            (None, 64, 30)            7920      \n",
      "_________________________________________________________________\n",
      "global_average_pooling1d_1 ( (None, 30)                0         \n",
      "_________________________________________________________________\n",
      "dense_2 (Dense)              (None, 64)                1984      \n",
      "_________________________________________________________________\n",
      "dense_3 (Dense)              (None, 10)                650       \n",
      "=================================================================\n",
      "Total params: 10,554\n",
      "Trainable params: 10,554\n",
      "Non-trainable params: 0\n",
      "_________________________________________________________________\n"
     ]
    }
   ],
   "source": [
    "model4.summary()"
   ]
  },
  {
   "cell_type": "code",
   "execution_count": 146,
   "metadata": {
    "id": "2KJGxjkuBP1l"
   },
   "outputs": [],
   "source": [
    "model4.compile(optimizer=tf.keras.optimizers.Adam(),loss='SparseCategoricalCrossentropy',metrics=['accuracy'])"
   ]
  },
  {
   "cell_type": "code",
   "execution_count": 147,
   "metadata": {
    "colab": {
     "base_uri": "https://localhost:8080/"
    },
    "id": "qR0KBNY_BP4c",
    "outputId": "478295ec-a52a-4e37-ed40-2264e3f4e614"
   },
   "outputs": [
    {
     "name": "stdout",
     "output_type": "stream",
     "text": [
      "Epoch 1/200\n",
      "  1/450 [..............................] - ETA: 13:06 - loss: 2.3978 - accuracy: 0.0625ERROR:tensorflow:Failed to start profiler: Another profiler is running.\n",
      "  3/450 [..............................] - ETA: 50s - loss: 2.3281 - accuracy: 0.1458WARNING:tensorflow:Callback method `on_train_batch_end` is slow compared to the batch time (batch time: 0.0056s vs `on_train_batch_end` time: 0.0400s). Check your callbacks.\n",
      "450/450 [==============================] - 9s 16ms/step - loss: 2.0025 - accuracy: 0.2858 - val_loss: 1.7273 - val_accuracy: 0.3925\n",
      "f1 score is  0.3925\n",
      "Epoch 2/200\n",
      "450/450 [==============================] - 6s 14ms/step - loss: 1.6506 - accuracy: 0.4149 - val_loss: 1.4878 - val_accuracy: 0.4825\n",
      "f1 score is  0.4825\n",
      "Epoch 3/200\n",
      "450/450 [==============================] - 6s 14ms/step - loss: 1.4641 - accuracy: 0.4940 - val_loss: 1.2557 - val_accuracy: 0.5625\n",
      "f1 score is  0.5625\n",
      "Epoch 4/200\n",
      "450/450 [==============================] - 6s 14ms/step - loss: 1.3198 - accuracy: 0.5504 - val_loss: 1.1412 - val_accuracy: 0.5925\n",
      "f1 score is  0.5925\n",
      "Epoch 5/200\n",
      "450/450 [==============================] - 6s 14ms/step - loss: 1.2090 - accuracy: 0.5815 - val_loss: 1.0452 - val_accuracy: 0.6475\n",
      "f1 score is  0.6475\n",
      "Epoch 6/200\n",
      "450/450 [==============================] - 6s 14ms/step - loss: 1.1217 - accuracy: 0.6153 - val_loss: 1.0220 - val_accuracy: 0.6700\n",
      "f1 score is  0.67\n",
      "Epoch 7/200\n",
      "450/450 [==============================] - 6s 14ms/step - loss: 1.0743 - accuracy: 0.6297 - val_loss: 0.9430 - val_accuracy: 0.6950\n",
      "f1 score is  0.695\n",
      "Epoch 8/200\n",
      "450/450 [==============================] - 6s 14ms/step - loss: 1.0210 - accuracy: 0.6495 - val_loss: 0.9407 - val_accuracy: 0.6950\n",
      "f1 score is  0.695\n",
      "Epoch 9/200\n",
      "450/450 [==============================] - 6s 14ms/step - loss: 0.9940 - accuracy: 0.6623 - val_loss: 0.9421 - val_accuracy: 0.6800\n",
      "f1 score is  0.68\n",
      "Epoch 10/200\n",
      "450/450 [==============================] - 6s 14ms/step - loss: 0.9557 - accuracy: 0.6717 - val_loss: 0.9663 - val_accuracy: 0.6800\n",
      "f1 score is  0.68\n",
      "Epoch 11/200\n",
      "450/450 [==============================] - 6s 14ms/step - loss: 0.9343 - accuracy: 0.6819 - val_loss: 0.8469 - val_accuracy: 0.7125\n",
      "f1 score is  0.7125\n",
      "Epoch 12/200\n",
      "450/450 [==============================] - 6s 14ms/step - loss: 0.9010 - accuracy: 0.6887 - val_loss: 0.8230 - val_accuracy: 0.7225\n",
      "f1 score is  0.7225\n",
      "Epoch 13/200\n",
      "450/450 [==============================] - 6s 14ms/step - loss: 0.8750 - accuracy: 0.6976 - val_loss: 0.8548 - val_accuracy: 0.7100\n",
      "f1 score is  0.7100000000000001\n",
      "Epoch 14/200\n",
      "450/450 [==============================] - 6s 14ms/step - loss: 0.8595 - accuracy: 0.7047 - val_loss: 0.8706 - val_accuracy: 0.7100\n",
      "f1 score is  0.7100000000000001\n",
      "Epoch 15/200\n",
      "450/450 [==============================] - 6s 14ms/step - loss: 0.8516 - accuracy: 0.7046 - val_loss: 0.8159 - val_accuracy: 0.7075\n",
      "f1 score is  0.7075\n",
      "Epoch 16/200\n",
      "450/450 [==============================] - 6s 14ms/step - loss: 0.8373 - accuracy: 0.7088 - val_loss: 0.8677 - val_accuracy: 0.7100\n",
      "f1 score is  0.7100000000000001\n",
      "Epoch 17/200\n",
      "450/450 [==============================] - 6s 14ms/step - loss: 0.8070 - accuracy: 0.7186 - val_loss: 0.8344 - val_accuracy: 0.7150\n",
      "f1 score is  0.715\n",
      "Epoch 18/200\n",
      "450/450 [==============================] - 6s 14ms/step - loss: 0.7988 - accuracy: 0.7213 - val_loss: 0.8308 - val_accuracy: 0.7025\n",
      "f1 score is  0.7025\n",
      "Epoch 19/200\n",
      "450/450 [==============================] - 6s 14ms/step - loss: 0.7838 - accuracy: 0.7340 - val_loss: 0.7841 - val_accuracy: 0.7600\n",
      "f1 score is  0.76\n",
      "Epoch 20/200\n",
      "450/450 [==============================] - 6s 14ms/step - loss: 0.7764 - accuracy: 0.7306 - val_loss: 0.7877 - val_accuracy: 0.7325\n",
      "f1 score is  0.7325\n",
      "Epoch 21/200\n",
      "450/450 [==============================] - 6s 14ms/step - loss: 0.7810 - accuracy: 0.7296 - val_loss: 0.7788 - val_accuracy: 0.7375\n",
      "f1 score is  0.7375\n",
      "Epoch 22/200\n",
      "450/450 [==============================] - 6s 14ms/step - loss: 0.7668 - accuracy: 0.7341 - val_loss: 0.7682 - val_accuracy: 0.7375\n",
      "f1 score is  0.7375\n",
      "Epoch 23/200\n",
      "450/450 [==============================] - 6s 14ms/step - loss: 0.7414 - accuracy: 0.7453 - val_loss: 0.7362 - val_accuracy: 0.7500\n",
      "f1 score is  0.75\n",
      "Epoch 24/200\n",
      "450/450 [==============================] - 6s 14ms/step - loss: 0.7256 - accuracy: 0.7483 - val_loss: 0.7111 - val_accuracy: 0.7275\n",
      "f1 score is  0.7275000000000001\n",
      "Epoch 25/200\n",
      "450/450 [==============================] - 6s 14ms/step - loss: 0.7131 - accuracy: 0.7556 - val_loss: 0.7290 - val_accuracy: 0.7600\n",
      "f1 score is  0.76\n",
      "Epoch 26/200\n",
      "450/450 [==============================] - 6s 14ms/step - loss: 0.7107 - accuracy: 0.7511 - val_loss: 0.7314 - val_accuracy: 0.7400\n",
      "f1 score is  0.74\n",
      "Epoch 27/200\n",
      "450/450 [==============================] - 6s 14ms/step - loss: 0.7037 - accuracy: 0.7544 - val_loss: 0.7619 - val_accuracy: 0.7525\n",
      "f1 score is  0.7525\n",
      "Epoch 28/200\n",
      "450/450 [==============================] - 6s 14ms/step - loss: 0.7209 - accuracy: 0.7490 - val_loss: 0.7481 - val_accuracy: 0.7625\n",
      "f1 score is  0.7625\n",
      "Epoch 29/200\n",
      "450/450 [==============================] - 6s 14ms/step - loss: 0.6936 - accuracy: 0.7608 - val_loss: 0.7030 - val_accuracy: 0.7475\n",
      "f1 score is  0.7475\n",
      "Epoch 30/200\n",
      "450/450 [==============================] - 6s 14ms/step - loss: 0.6816 - accuracy: 0.7599 - val_loss: 0.7513 - val_accuracy: 0.7525\n",
      "f1 score is  0.7525\n",
      "Epoch 31/200\n",
      "450/450 [==============================] - 6s 14ms/step - loss: 0.6758 - accuracy: 0.7674 - val_loss: 0.7365 - val_accuracy: 0.7525\n",
      "f1 score is  0.7525\n",
      "Epoch 32/200\n",
      "450/450 [==============================] - 6s 14ms/step - loss: 0.6657 - accuracy: 0.7722 - val_loss: 0.8480 - val_accuracy: 0.7025\n",
      "f1 score is  0.7025\n",
      "Epoch 33/200\n",
      "450/450 [==============================] - 6s 14ms/step - loss: 0.6544 - accuracy: 0.7721 - val_loss: 0.7338 - val_accuracy: 0.7475\n",
      "f1 score is  0.7475\n",
      "Epoch 34/200\n",
      "450/450 [==============================] - 6s 14ms/step - loss: 0.6641 - accuracy: 0.7713 - val_loss: 0.7110 - val_accuracy: 0.7575\n",
      "f1 score is  0.7575\n",
      "Epoch 35/200\n",
      "450/450 [==============================] - 6s 14ms/step - loss: 0.6373 - accuracy: 0.7774 - val_loss: 0.6806 - val_accuracy: 0.7625\n",
      "f1 score is  0.7625\n",
      "Epoch 36/200\n",
      "450/450 [==============================] - 6s 14ms/step - loss: 0.6353 - accuracy: 0.7819 - val_loss: 0.6856 - val_accuracy: 0.7850\n",
      "f1 score is  0.785\n",
      "Epoch 37/200\n",
      "450/450 [==============================] - 7s 15ms/step - loss: 0.6336 - accuracy: 0.7806 - val_loss: 0.8374 - val_accuracy: 0.7450\n",
      "f1 score is  0.745\n",
      "Epoch 38/200\n",
      "450/450 [==============================] - 6s 14ms/step - loss: 0.6402 - accuracy: 0.7760 - val_loss: 0.8018 - val_accuracy: 0.7275\n",
      "f1 score is  0.7275000000000001\n",
      "Epoch 39/200\n",
      "450/450 [==============================] - 6s 14ms/step - loss: 0.6472 - accuracy: 0.7758 - val_loss: 0.6636 - val_accuracy: 0.7625\n",
      "f1 score is  0.7625\n",
      "Epoch 40/200\n",
      "450/450 [==============================] - 7s 15ms/step - loss: 0.6374 - accuracy: 0.7799 - val_loss: 0.6517 - val_accuracy: 0.7725\n",
      "f1 score is  0.7725000000000001\n",
      "Epoch 41/200\n",
      "450/450 [==============================] - 6s 14ms/step - loss: 0.6287 - accuracy: 0.7876 - val_loss: 0.7390 - val_accuracy: 0.7650\n",
      "f1 score is  0.765\n",
      "Epoch 42/200\n",
      "450/450 [==============================] - 6s 14ms/step - loss: 0.6243 - accuracy: 0.7815 - val_loss: 0.6568 - val_accuracy: 0.7800\n",
      "f1 score is  0.78\n",
      "Epoch 43/200\n",
      "450/450 [==============================] - 6s 14ms/step - loss: 0.6021 - accuracy: 0.7944 - val_loss: 0.6693 - val_accuracy: 0.7700\n",
      "f1 score is  0.7699999999999999\n",
      "Epoch 44/200\n",
      "450/450 [==============================] - 6s 14ms/step - loss: 0.6022 - accuracy: 0.7909 - val_loss: 0.6307 - val_accuracy: 0.7925\n",
      "f1 score is  0.7925\n",
      "Epoch 45/200\n",
      "450/450 [==============================] - 6s 14ms/step - loss: 0.5935 - accuracy: 0.7943 - val_loss: 0.6509 - val_accuracy: 0.7875\n",
      "f1 score is  0.7875\n",
      "Epoch 46/200\n",
      "450/450 [==============================] - 6s 14ms/step - loss: 0.5899 - accuracy: 0.7976 - val_loss: 0.6443 - val_accuracy: 0.7975\n",
      "f1 score is  0.7975\n",
      "Epoch 47/200\n",
      "450/450 [==============================] - 6s 14ms/step - loss: 0.5811 - accuracy: 0.7947 - val_loss: 0.6572 - val_accuracy: 0.7950\n",
      "f1 score is  0.795\n",
      "Epoch 48/200\n",
      "450/450 [==============================] - 6s 14ms/step - loss: 0.5680 - accuracy: 0.8065 - val_loss: 0.6398 - val_accuracy: 0.7700\n",
      "f1 score is  0.7699999999999999\n",
      "Epoch 49/200\n",
      "450/450 [==============================] - 6s 14ms/step - loss: 0.5695 - accuracy: 0.8017 - val_loss: 0.6376 - val_accuracy: 0.7775\n",
      "f1 score is  0.7775\n",
      "Epoch 50/200\n",
      "450/450 [==============================] - 6s 14ms/step - loss: 0.5521 - accuracy: 0.8088 - val_loss: 0.7267 - val_accuracy: 0.7650\n",
      "f1 score is  0.765\n",
      "Epoch 51/200\n",
      "450/450 [==============================] - 6s 14ms/step - loss: 0.5435 - accuracy: 0.8162 - val_loss: 0.6176 - val_accuracy: 0.7850\n",
      "f1 score is  0.785\n",
      "Epoch 52/200\n",
      "450/450 [==============================] - 6s 14ms/step - loss: 0.5497 - accuracy: 0.8076 - val_loss: 0.6516 - val_accuracy: 0.7875\n",
      "f1 score is  0.7875\n",
      "Epoch 53/200\n",
      "450/450 [==============================] - 6s 14ms/step - loss: 0.5451 - accuracy: 0.8081 - val_loss: 0.6421 - val_accuracy: 0.7875\n",
      "f1 score is  0.7875\n",
      "Epoch 54/200\n",
      "450/450 [==============================] - 6s 14ms/step - loss: 0.5406 - accuracy: 0.8141 - val_loss: 0.6391 - val_accuracy: 0.7850\n",
      "f1 score is  0.785\n",
      "Epoch 55/200\n",
      "450/450 [==============================] - 6s 14ms/step - loss: 0.5359 - accuracy: 0.8153 - val_loss: 0.6962 - val_accuracy: 0.7800\n",
      "f1 score is  0.78\n",
      "Epoch 56/200\n",
      "450/450 [==============================] - 6s 14ms/step - loss: 0.5296 - accuracy: 0.8138 - val_loss: 0.6540 - val_accuracy: 0.7800\n",
      "f1 score is  0.78\n",
      "Epoch 57/200\n",
      "450/450 [==============================] - 6s 14ms/step - loss: 0.5198 - accuracy: 0.8214 - val_loss: 0.6553 - val_accuracy: 0.7825\n",
      "f1 score is  0.7825\n",
      "Epoch 58/200\n",
      "450/450 [==============================] - 6s 14ms/step - loss: 0.5183 - accuracy: 0.8228 - val_loss: 0.6900 - val_accuracy: 0.7400\n",
      "f1 score is  0.74\n",
      "Epoch 59/200\n",
      "450/450 [==============================] - 6s 14ms/step - loss: 0.5137 - accuracy: 0.8199 - val_loss: 0.6327 - val_accuracy: 0.7900\n",
      "f1 score is  0.79\n",
      "Epoch 60/200\n",
      "450/450 [==============================] - 6s 14ms/step - loss: 0.5159 - accuracy: 0.8183 - val_loss: 0.6558 - val_accuracy: 0.7800\n",
      "f1 score is  0.78\n",
      "Epoch 61/200\n",
      "450/450 [==============================] - 7s 15ms/step - loss: 0.5073 - accuracy: 0.8247 - val_loss: 0.6550 - val_accuracy: 0.8025\n",
      "micro f1 score has reached 0.80% so training is stopping\n",
      "f1 score is  0.8025\n"
     ]
    },
    {
     "data": {
      "text/plain": [
       "<keras.callbacks.History at 0x7fc8c00dea10>"
      ]
     },
     "execution_count": 147,
     "metadata": {},
     "output_type": "execute_result"
    }
   ],
   "source": [
    "model4.fit(X_train_spectrogram_aug,y_train_augmented,\n",
    "           epochs=200,\n",
    "           batch_size=32,\n",
    "           validation_data=(X_test_spectrogram_aug,y_test_augmented),\n",
    "           callbacks = [f1_score4,tensorboard_callback4])"
   ]
  },
  {
   "cell_type": "code",
   "execution_count": 148,
   "metadata": {
    "colab": {
     "base_uri": "https://localhost:8080/",
     "height": 35
    },
    "id": "gWvyZRqTvdu4",
    "outputId": "042fe27a-644f-43d5-e621-36061db5f2b8"
   },
   "outputs": [
    {
     "data": {
      "application/vnd.google.colaboratory.intrinsic+json": {
       "type": "string"
      },
      "text/plain": [
       "'logs/20210913-101710'"
      ]
     },
     "execution_count": 148,
     "metadata": {},
     "output_type": "execute_result"
    }
   ],
   "source": [
    "logdir4"
   ]
  },
  {
   "cell_type": "code",
   "execution_count": 5,
   "metadata": {},
   "outputs": [
    {
     "data": {
      "image/png": "[encoded data removed]",
      "text/plain": [
       "<IPython.core.display.Image object>"
      ]
     },
     "execution_count": 5,
     "metadata": {},
     "output_type": "execute_result"
    }
   ],
   "source": [
    "from IPython.display import Image\n",
    "Image(filename=r'C:\\Users\\kingjames\\Downloads\\spoken model 4 tensorboard.png')"
   ]
  },
  {
   "cell_type": "code",
   "execution_count": 151,
   "metadata": {
    "colab": {
     "base_uri": "https://localhost:8080/",
     "height": 533
    },
    "id": "2yQ-m64vuBlT",
    "outputId": "9ebd3efb-cf9d-461d-857f-b8819fb0a52f"
   },
   "outputs": [
    {
     "data": {
      "image/png": "[encoded data removed]",
      "text/plain": [
       "<IPython.core.display.Image object>"
      ]
     },
     "execution_count": 151,
     "metadata": {},
     "output_type": "execute_result"
    }
   ],
   "source": [
    "from tensorflow.keras.utils import plot_model\n",
    "plot_model(model4, to_file='model_plot.png', show_shapes=True, show_layer_names=True)"
   ]
  },
  {
   "cell_type": "markdown",
   "metadata": {
    "id": "8kpB_pbtBP7e"
   },
   "source": [
    "# observations"
   ]
  },
  {
   "cell_type": "markdown",
   "metadata": {},
   "source": [
    "1] Here the data is audio which has wav format. so we use librosa libarary to get vector for every audio file ,with sampling \n",
    "   rate 22050. sampling rate is basically number of observation taken per second here we took 22050.\n",
    "   \n",
    "2] then we each audio file must be same length so he we observaed that 99.99% of the audo file have 0.8 sec of duaration . \n",
    "    for 1 sec we have 22050 sampling rate for 0.8 sec we have 17640sampling rate\n",
    "    \n",
    "3] So each audio file is of length 17640.if it is less than 17640 we pad with 0 . If it is more than 17640 we truncate it .\n",
    "\n",
    "4] then we feed it to lstm model. here we ahve 4 model. first model we directly feed it to the lstm and got desired accuracy.\n",
    "\n",
    "5] second model we convert audio file to spectogram and then feed it to the lstm model. third model we did data augmentation \n",
    "   for each file we have created 9 files and then feed it to the lstm model. and in fourth model we convert augemnted data      to spectogram and then feed it to the model and got desired f1 score."
   ]
  },
  {
   "cell_type": "code",
   "execution_count": null,
   "metadata": {
    "id": "ixQXY67mBQBD"
   },
   "outputs": [],
   "source": []
  }
 ],
 "metadata": {
  "accelerator": "GPU",
  "colab": {
   "collapsed_sections": [],
   "name": "Spoken digit recognition  Assignment.ipynb",
   "provenance": []
  },
  "kernelspec": {
   "display_name": "Python 3",
   "language": "python",
   "name": "python3"
  },
  "language_info": {
   "codemirror_mode": {
    "name": "ipython",
    "version": 3
   },
   "file_extension": ".py",
   "mimetype": "text/x-python",
   "name": "python",
   "nbconvert_exporter": "python",
   "pygments_lexer": "ipython3",
   "version": "3.7.0"
  }
 },
 "nbformat": 4,
 "nbformat_minor": 1
}
